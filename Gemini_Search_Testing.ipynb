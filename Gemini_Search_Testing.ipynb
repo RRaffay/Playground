{
  "nbformat": 4,
  "nbformat_minor": 0,
  "metadata": {
    "colab": {
      "provenance": [],
      "collapsed_sections": [
        "ahJ7YgC4vHZt",
        "_-tH9QuAvIlB",
        "nWoZBGGnvv80",
        "0I8iKof_ww3x"
      ],
      "toc_visible": true,
      "authorship_tag": "ABX9TyM3FAV0BXVewrKQWOIOHBfq",
      "include_colab_link": true
    },
    "kernelspec": {
      "name": "python3",
      "display_name": "Python 3"
    },
    "language_info": {
      "name": "python"
    }
  },
  "cells": [
    {
      "cell_type": "markdown",
      "metadata": {
        "id": "view-in-github",
        "colab_type": "text"
      },
      "source": [
        "<a href=\"https://colab.research.google.com/github/RRaffay/Playground/blob/main/Gemini_Search_Testing.ipynb\" target=\"_parent\"><img src=\"https://colab.research.google.com/assets/colab-badge.svg\" alt=\"Open In Colab\"/></a>"
      ]
    },
    {
      "cell_type": "markdown",
      "source": [
        "# Gemini Tutor Testing"
      ],
      "metadata": {
        "id": "f8z1qxtpvAGD"
      }
    },
    {
      "cell_type": "markdown",
      "source": [
        "# Base Google Search"
      ],
      "metadata": {
        "id": "9cYCh5f_Ib35"
      }
    },
    {
      "cell_type": "markdown",
      "source": [
        "## Imports and Config"
      ],
      "metadata": {
        "id": "ahJ7YgC4vHZt"
      }
    },
    {
      "cell_type": "code",
      "execution_count": null,
      "metadata": {
        "id": "LxBnfjpVu8JM"
      },
      "outputs": [],
      "source": [
        "!pip install -U -q google-generativeai"
      ]
    },
    {
      "cell_type": "code",
      "source": [
        "!pip install requests"
      ],
      "metadata": {
        "id": "Fri2RVMk52wd"
      },
      "execution_count": null,
      "outputs": []
    },
    {
      "cell_type": "code",
      "source": [
        "import pathlib\n",
        "import textwrap\n",
        "import time\n",
        "import json\n",
        "import requests\n",
        "\n",
        "import google.generativeai as genai\n",
        "\n",
        "\n",
        "from IPython import display\n",
        "from IPython.display import Markdown"
      ],
      "metadata": {
        "id": "zf7PI-YsvJb7"
      },
      "execution_count": null,
      "outputs": []
    },
    {
      "cell_type": "code",
      "source": [
        "try:\n",
        "    # Used to securely store your API key\n",
        "    from google.colab import userdata\n",
        "\n",
        "    # Or use `os.getenv('API_KEY')` to fetch an environment variable.\n",
        "    GOOGLE_API_KEY=userdata.get('GOOGLE_API_KEY')\n",
        "except ImportError:\n",
        "    import os\n",
        "    GOOGLE_API_KEY = os.environ['GOOGLE_API_KEY']\n",
        "\n",
        "genai.configure(api_key=GOOGLE_API_KEY)"
      ],
      "metadata": {
        "id": "qw_iurKvvNww"
      },
      "execution_count": null,
      "outputs": []
    },
    {
      "cell_type": "code",
      "source": [
        "import google.ai.generativelanguage as glm\n",
        "serper_api_key = userdata.get('SERP_API_KEY')"
      ],
      "metadata": {
        "id": "MGGOEuqY57cu"
      },
      "execution_count": null,
      "outputs": []
    },
    {
      "cell_type": "markdown",
      "source": [
        "## Basic Example"
      ],
      "metadata": {
        "id": "_-tH9QuAvIlB"
      }
    },
    {
      "cell_type": "code",
      "source": [
        "def multiply(a:float, b:float):\n",
        "    \"\"\"returns a * b.\"\"\"\n",
        "    return a*b\n",
        "\n",
        "model = genai.GenerativeModel(model_name='gemini-1.0-pro',\n",
        "                              tools=[multiply])\n",
        "\n",
        "model"
      ],
      "metadata": {
        "colab": {
          "base_uri": "https://localhost:8080/"
        },
        "id": "PwCAKGKcvWXz",
        "outputId": "7d450426-0dc4-48ff-b067-69f70a586065"
      },
      "execution_count": null,
      "outputs": [
        {
          "output_type": "execute_result",
          "data": {
            "text/plain": [
              "genai.GenerativeModel(\n",
              "    model_name='models/gemini-1.0-pro',\n",
              "    generation_config={},\n",
              "    safety_settings={},\n",
              "    tools=<google.generativeai.types.content_types.FunctionLibrary object at 0x7f35d2359210>,\n",
              "    system_instruction=None,\n",
              ")"
            ]
          },
          "metadata": {},
          "execution_count": 4
        }
      ]
    },
    {
      "cell_type": "code",
      "source": [
        "chat = model.start_chat(enable_automatic_function_calling=True)"
      ],
      "metadata": {
        "id": "OWeLpgABvbMq"
      },
      "execution_count": null,
      "outputs": []
    },
    {
      "cell_type": "code",
      "source": [
        "response = chat.send_message('I have 57 cats, each owns 44 mittens, how many mittens is that in total?')\n",
        "response.text"
      ],
      "metadata": {
        "colab": {
          "base_uri": "https://localhost:8080/",
          "height": 35
        },
        "id": "N4E22y9ivcpF",
        "outputId": "9d61dff2-b793-4a0c-936e-7b0ad31a7435"
      },
      "execution_count": null,
      "outputs": [
        {
          "output_type": "execute_result",
          "data": {
            "text/plain": [
              "'That makes 2508 mittens in total.'"
            ],
            "application/vnd.google.colaboratory.intrinsic+json": {
              "type": "string"
            }
          },
          "metadata": {},
          "execution_count": 6
        }
      ]
    },
    {
      "cell_type": "code",
      "source": [
        "for content in chat.history:\n",
        "    part = content.parts[0]\n",
        "    print(content.role, \"->\", type(part).to_dict(part))\n",
        "    print('-'*80)"
      ],
      "metadata": {
        "colab": {
          "base_uri": "https://localhost:8080/"
        },
        "id": "Xj8eV7lpvghA",
        "outputId": "b74139eb-6050-4f52-bf39-7e8add50d11e"
      },
      "execution_count": null,
      "outputs": [
        {
          "output_type": "stream",
          "name": "stdout",
          "text": [
            "user -> {'text': 'I have 57 cats, each owns 44 mittens, how many mittens is that in total?'}\n",
            "--------------------------------------------------------------------------------\n",
            "model -> {'function_call': {'name': 'multiply', 'args': {'b': 44.0, 'a': 57.0}}}\n",
            "--------------------------------------------------------------------------------\n",
            "user -> {'function_response': {'name': 'multiply', 'response': {'result': 2508.0}}}\n",
            "--------------------------------------------------------------------------------\n",
            "model -> {'text': 'That makes 2508 mittens in total.'}\n",
            "--------------------------------------------------------------------------------\n"
          ]
        }
      ]
    },
    {
      "cell_type": "markdown",
      "source": [
        "## Trying Automated Search with Serper"
      ],
      "metadata": {
        "id": "nWoZBGGnvv80"
      }
    },
    {
      "cell_type": "code",
      "source": [
        "serper_api_key = userdata.get('SERP_API_KEY')"
      ],
      "metadata": {
        "id": "6uPp9M6Ev6o4"
      },
      "execution_count": null,
      "outputs": []
    },
    {
      "cell_type": "code",
      "source": [
        "def google_search(search_keyword: str):\n",
        "    \"\"\"Returns the google results for the given search word\"\"\"\n",
        "    url = \"https://google.serper.dev/search\"\n",
        "\n",
        "    payload = json.dumps({\n",
        "        \"q\": search_keyword\n",
        "    })\n",
        "\n",
        "    headers = {\n",
        "        'X-API-KEY': serper_api_key,\n",
        "        'Content-Type': 'application/json'\n",
        "    }\n",
        "\n",
        "    response = requests.request(\"POST\", url, headers=headers, data=payload)\n",
        "    print(f\"Google Search for: {search_keyword}\")\n",
        "    return response.text\n"
      ],
      "metadata": {
        "id": "L9IOP7nnvig2"
      },
      "execution_count": null,
      "outputs": []
    },
    {
      "cell_type": "code",
      "source": [
        "model = genai.GenerativeModel(model_name='gemini-1.0-pro',\n",
        "                              tools=[google_search])"
      ],
      "metadata": {
        "id": "GG7DpMhMwScZ"
      },
      "execution_count": null,
      "outputs": []
    },
    {
      "cell_type": "code",
      "source": [
        "chat = model.start_chat(enable_automatic_function_calling=True)"
      ],
      "metadata": {
        "id": "fMakqb7uwWZI"
      },
      "execution_count": null,
      "outputs": []
    },
    {
      "cell_type": "code",
      "source": [
        "response = chat.send_message('What is the CS330 Course at Duke')\n",
        "response.text"
      ],
      "metadata": {
        "id": "SDQRVOJIwesR"
      },
      "execution_count": null,
      "outputs": []
    },
    {
      "cell_type": "markdown",
      "source": [
        "## Trying Manual Search with Serper"
      ],
      "metadata": {
        "id": "0I8iKof_ww3x"
      }
    },
    {
      "cell_type": "code",
      "source": [
        "import google.ai.generativelanguage as glm\n",
        "serper_api_key = userdata.get('SERP_API_KEY')"
      ],
      "metadata": {
        "id": "AZbPRDldzll8"
      },
      "execution_count": null,
      "outputs": []
    },
    {
      "cell_type": "code",
      "source": [
        "def google_search_runner(search_keyword: str):\n",
        "    \"\"\"Returns the google results for the given search word\"\"\"\n",
        "    url = \"https://google.serper.dev/search\"\n",
        "\n",
        "    payload = json.dumps({\n",
        "        \"q\": search_keyword\n",
        "    })\n",
        "\n",
        "    headers = {\n",
        "        'X-API-KEY': serper_api_key,\n",
        "        'Content-Type': 'application/json'\n",
        "    }\n",
        "\n",
        "    response = requests.request(\"POST\", url, headers=headers, data=payload)\n",
        "    print(f\"Google Search for: {search_keyword}\")\n",
        "    return response.text"
      ],
      "metadata": {
        "id": "ykfHwwqEzPCg"
      },
      "execution_count": null,
      "outputs": []
    },
    {
      "cell_type": "code",
      "source": [
        "google_search = {'function_declarations': [\n",
        "    {\n",
        "    \"name\": \"google_search\",\n",
        "    \"description\": \"Google search to return results of search keywords\",\n",
        "    \"parameters\": {\n",
        "        \"type_\": \"OBJECT\",\n",
        "        \"properties\": {\n",
        "            \"search_keyword\": {\n",
        "                \"type_\": \"STRING\",\n",
        "                \"description\": \"A great search keyword that most likely to return resuls for the information you are looking for\"\n",
        "            }\n",
        "        },\n",
        "        \"required\": [\n",
        "            \"search_keyword\"\n",
        "        ]\n",
        "    }\n",
        "}\n",
        "]}"
      ],
      "metadata": {
        "id": "eUwChABHw34u"
      },
      "execution_count": null,
      "outputs": []
    },
    {
      "cell_type": "code",
      "source": [
        "glm.Tool(google_search)"
      ],
      "metadata": {
        "colab": {
          "base_uri": "https://localhost:8080/"
        },
        "id": "_NsuCQL4w6Vz",
        "outputId": "c35730d0-bfd4-4fd4-a91b-a02911f984a4"
      },
      "execution_count": null,
      "outputs": [
        {
          "output_type": "execute_result",
          "data": {
            "text/plain": [
              "function_declarations {\n",
              "  name: \"google_search\"\n",
              "  description: \"Google search to return results of search keywords\"\n",
              "  parameters {\n",
              "    type_: OBJECT\n",
              "    properties {\n",
              "      key: \"search_keyword\"\n",
              "      value {\n",
              "        type_: STRING\n",
              "        description: \"A great search keyword that most likely to return resuls for the information you are looking for\"\n",
              "      }\n",
              "    }\n",
              "    required: \"search_keyword\"\n",
              "  }\n",
              "}"
            ]
          },
          "metadata": {},
          "execution_count": 75
        }
      ]
    },
    {
      "cell_type": "code",
      "source": [
        "model = genai.GenerativeModel('gemini-pro', tools=google_search)\n",
        "chat = model.start_chat()\n",
        "\n",
        "response = chat.send_message(\n",
        "    f\"What is the class CS330 at Duke?\",\n",
        ")"
      ],
      "metadata": {
        "id": "Vn393ZWOxkLb"
      },
      "execution_count": null,
      "outputs": []
    },
    {
      "cell_type": "code",
      "source": [
        "response.candidates"
      ],
      "metadata": {
        "colab": {
          "base_uri": "https://localhost:8080/"
        },
        "id": "H5qeGqm3yKbE",
        "outputId": "b71c346c-eb12-4661-846e-8f48e0af95f4"
      },
      "execution_count": null,
      "outputs": [
        {
          "output_type": "execute_result",
          "data": {
            "text/plain": [
              "[content {\n",
              "  parts {\n",
              "    function_call {\n",
              "      name: \"google_search\"\n",
              "      args {\n",
              "        fields {\n",
              "          key: \"search_keyword\"\n",
              "          value {\n",
              "            string_value: \"What is the class CS330 at Duke?\"\n",
              "          }\n",
              "        }\n",
              "      }\n",
              "    }\n",
              "  }\n",
              "  role: \"model\"\n",
              "}\n",
              "finish_reason: STOP\n",
              "index: 0\n",
              "safety_ratings {\n",
              "  category: HARM_CATEGORY_SEXUALLY_EXPLICIT\n",
              "  probability: NEGLIGIBLE\n",
              "}\n",
              "safety_ratings {\n",
              "  category: HARM_CATEGORY_HARASSMENT\n",
              "  probability: NEGLIGIBLE\n",
              "}\n",
              "safety_ratings {\n",
              "  category: HARM_CATEGORY_DANGEROUS_CONTENT\n",
              "  probability: NEGLIGIBLE\n",
              "}\n",
              "safety_ratings {\n",
              "  category: HARM_CATEGORY_HATE_SPEECH\n",
              "  probability: NEGLIGIBLE\n",
              "}\n",
              "]"
            ]
          },
          "metadata": {},
          "execution_count": 88
        }
      ]
    },
    {
      "cell_type": "code",
      "source": [
        "fc = response.candidates[0].content.parts[0].function_call\n",
        "assert fc.name == 'google_search'\n",
        "\n",
        "key_word = fc.args['search_keyword']"
      ],
      "metadata": {
        "id": "6lP0U70XyNLG"
      },
      "execution_count": null,
      "outputs": []
    },
    {
      "cell_type": "code",
      "source": [
        "key_word"
      ],
      "metadata": {
        "colab": {
          "base_uri": "https://localhost:8080/",
          "height": 35
        },
        "id": "WEl9QCqAzZt1",
        "outputId": "ad15a2f2-cd25-44c3-d337-806a0aa832db"
      },
      "execution_count": null,
      "outputs": [
        {
          "output_type": "execute_result",
          "data": {
            "text/plain": [
              "'What is the class CS330 at Duke?'"
            ],
            "application/vnd.google.colaboratory.intrinsic+json": {
              "type": "string"
            }
          },
          "metadata": {},
          "execution_count": 79
        }
      ]
    },
    {
      "cell_type": "code",
      "source": [
        "result = google_search_runner(key_word)\n",
        "result"
      ],
      "metadata": {
        "colab": {
          "base_uri": "https://localhost:8080/",
          "height": 122
        },
        "id": "w4nYXgZWzGYk",
        "outputId": "61f5b8a6-6fad-4a4b-fbb4-37111aa42054"
      },
      "execution_count": null,
      "outputs": [
        {
          "output_type": "stream",
          "name": "stdout",
          "text": [
            "Google Search for: What is the class CS330 at Duke?\n"
          ]
        },
        {
          "output_type": "execute_result",
          "data": {
            "text/plain": [
              "'{\"searchParameters\":{\"q\":\"What is the class CS330 at Duke?\",\"type\":\"search\",\"engine\":\"google\"},\"searchInformation\":{\"didYouMean\":\"What is the class CS 330 at Duke?\"},\"answerBox\":{\"snippet\":\"Design and analysis of efficient algorithms at an undergraduate level. Topics include greedy algorithms, divide and conquer, dynamic programming, graph algorithms, linear programming, randomized algorithms, and NP-completeness.\",\"snippetHighlighted\":[\"Design and analysis of efficient algorithms at an undergraduate level\"],\"title\":\"Computer Science 330 Spring 2024 - Sites@Duke Express\",\"link\":\"https://sites.duke.edu/spring24compsci330/\"},\"organic\":[{\"title\":\"CS 330 Spring 2023 | Intro to Design & Analysis of Algorithms\",\"link\":\"https://courses.cs.duke.edu/spring23/compsci330/\",\"snippet\":\"Course Synopsis · Design techniques: Divide-and-conquer, greedy algorithms, dynamic programming, local search, and randomization · Data structures: Balanced ...\",\"position\":1},{\"title\":\"Duke COMPSCI 330 Fall 2022 - Google Sites\",\"link\":\"https://sites.google.com/view/duke-compsci-330-fall-2022\",\"snippet\":\"Duke University · COMPSCI 330 · Introduction to the Design and Analysis of Algorithms · Fall 2022 · Overview · Course Staff · Instructor · Teaching Associate · Graduate ...\",\"position\":2},{\"title\":\"COMPSCI 330 - Introduction to the Design and Analysis of Algorithms\",\"link\":\"https://www.coursicle.com/duke/courses/COMPSCI/330/\",\"snippet\":\"COMPSCI 330 at Duke University (Duke) in Durham, North Carolina. Design and analysis of efficient algorithms including sorting, searching, ...\",\"position\":3},{\"title\":\"Complexity-classes - CS330 Duke University - COMPSCI 330\",\"link\":\"https://www.studocu.com/en-us/document/duke-university/design-and-analysis-of-algorithms/complexity-classes-cs330-duke-university/3841989\",\"snippet\":\"University: Duke University · 1 Overview. In this lecture, we introduce complexity classes and polynomial-time reductions.1 · 2 Easy versus hard problems. In ...\",\"position\":4},{\"title\":\"CompSci Course Reviews & Major Insights - duke - Reddit\",\"link\":\"https://www.reddit.com/r/duke/comments/lv9s7u/compsci_course_reviews_major_insights/\",\"snippet\":\"I\\'ve heard CS230 is one of the more difficult courses, but does anyone here have insight on the other courses? CS330 (Introduction to the Design ...\",\"date\":\"Mar 1, 2021\",\"sitelinks\":[{\"title\":\"Help needed with CS 330 - duke - Reddit\",\"link\":\"https://www.reddit.com/r/duke/comments/1ayicf7/help_needed_with_cs_330/\"},{\"title\":\"CS 330 summer class? : r/duke - Reddit\",\"link\":\"https://www.reddit.com/r/duke/comments/g2iyf9/cs_330_summer_class/\"},{\"title\":\"Course CSE 330 Design and Analysis of Algorithm - Solution 2 : r/duke\",\"link\":\"https://www.reddit.com/r/duke/comments/g469t3/course_cse_330_design_and_analysis_of_algorithm/\"},{\"title\":\"Is this schedule reasonable? : r/duke - Reddit\",\"link\":\"https://www.reddit.com/r/duke/comments/jdx6m3/is_this_schedule_reasonable/\"}],\"position\":5},{\"title\":\"Design and Analysis of Algorithms (COMPSCI 330) - Studocu\",\"link\":\"https://www.studocu.com/en-us/course/duke-university/design-and-analysis-of-algorithms/1701830\",\"snippet\":\"Studying COMPSCI 330 Design and Analysis of Algorithms at Duke University? On Studocu you will find 36 assignments, lecture notes, summaries and much more ...\",\"position\":6},{\"title\":\"Duke COMPSCI 330 Fall 2020 - Google Sites\",\"link\":\"https://sites.google.com/view/duke-compci-330-fall-2020\",\"snippet\":\"Duke University · COMPSCI 330 · Introduction to the Design and Analysis of Algorithms · Fall 2020 · Overview · Course Staff · Syllabus ...\",\"attributes\":{\"Missing\":\"class | Show results with:class\"},\"position\":7},{\"title\":\"COMPSCI 330 : Algorithm - Duke - Course Hero\",\"link\":\"https://www.coursehero.com/sitemap/schools/69-Duke-University/courses/5615326-COMPSCI330\",\"snippet\":\"Access study documents, get answers to your study questions, and connect with real tutors for COMPSCI 330 : Algorithm at Duke University.\",\"position\":8},{\"title\":\"SOLUTION: Complexity classes cs330 duke university - Studypool\",\"link\":\"https://www.studypool.com/documents/33372853/complexity-classes-cs330-duke-university\",\"snippet\":\"In this lecture, we introduce complexity classes and polynomial-time reductions.1In this section, we will begin by defining a suite of hard problems we have ...\",\"position\":9}],\"peopleAlsoAsk\":[{\"question\":\"What is Duke ranked for CS?\",\"snippet\":\"Duke University\\'s Computer Science graduate program is ranked #20 in the country, according to US News & World Report. The department is also committed to working seamlessly with other disciplines in the arts and sciences to positively impact every aspect of society. We celebrated our 50th year in 2023.\",\"title\":\"About Us | Department of Computer Science\",\"link\":\"https://cs.duke.edu/about\"},{\"question\":\"Is Duke Computer Science in Trinity or Pratt?\",\"snippet\":\"Duke\\'s Innovative Approach We find the hybrid discipline of Electrical & Computer Engineering (ECE) produces students better prepared to integrate modern computing systems into devices and products capable of bettering the world. (Computer Science at Duke is a department in Trinity College of Arts & Sciences.\",\"title\":\"What\\'s the Difference Between Computer Science and Electrical ...\",\"link\":\"https://ece.duke.edu/undergrad/applicants/computer-science-vs-electrical-and-computer-engineering\"},{\"question\":\"What is the median starting salary at Duke Computer Science?\",\"snippet\":\"The median early career salary of compsci students who receive their bachelor\\'s degree from Duke is $99,600 per year. That is 50% higher than the national average of $66,348.\",\"title\":\"Duke Computer Science BS Average Salary - College Factual\",\"link\":\"https://www.collegefactual.com/colleges/duke-university/academic-life/academic-majors/computer-information-sciences/computer-science/bachelors/chart-average-salary.html\"},{\"question\":\"Can you minor in Computer Science at Duke?\",\"snippet\":\"Degree Options We offer a Bachelor of Science, Bachelor of Arts, and an Interdepartmental Major (IDM). In addition, you may wish to purse your Minor in Computer Science or Minor in Computational Biology and Bioinformatics.\",\"title\":\"Undergraduate | Department of Computer Science\",\"link\":\"https://cs.duke.edu/undergraduate\"}],\"relatedSearches\":[{\"query\":\"What is the class cs330 at duke pdf\"},{\"query\":\"Duke cs 330 fall 2023\"},{\"query\":\"Duke CS 330 Reddit\"},{\"query\":\"Cs 330 Duke\"},{\"query\":\"Cs 330 duke spring 2024\"},{\"query\":\"Duke cs courses\"},{\"query\":\"Duke Course Catalog\"},{\"query\":\"Duke cs substitutions\"}]}'"
            ],
            "application/vnd.google.colaboratory.intrinsic+json": {
              "type": "string"
            }
          },
          "metadata": {},
          "execution_count": 80
        }
      ]
    },
    {
      "cell_type": "code",
      "source": [
        "response = chat.send_message(\n",
        "    glm.Content(\n",
        "    parts=[glm.Part(\n",
        "        function_response = glm.FunctionResponse(\n",
        "          name='google_search',\n",
        "          response={'result': result}))]))"
      ],
      "metadata": {
        "id": "9Me5nLIFyWf4"
      },
      "execution_count": null,
      "outputs": []
    },
    {
      "cell_type": "code",
      "source": [
        "response.text"
      ],
      "metadata": {
        "colab": {
          "base_uri": "https://localhost:8080/",
          "height": 52
        },
        "id": "EasGyiRcyrze",
        "outputId": "b74eb795-e3df-446f-d0bb-1922b259e4c8"
      },
      "execution_count": null,
      "outputs": [
        {
          "output_type": "execute_result",
          "data": {
            "text/plain": [
              "'CS330 at Duke is an undergraduate-level course that focuses on the design and analysis of efficient algorithms. The class covers a wide range of topics, including greedy algorithms, divide-and-conquer, dynamic programming, graph algorithms, linear programming, randomized algorithms, and NP-completeness. The course is typically offered in the fall and spring semesters.'"
            ],
            "application/vnd.google.colaboratory.intrinsic+json": {
              "type": "string"
            }
          },
          "metadata": {},
          "execution_count": 82
        }
      ]
    },
    {
      "cell_type": "markdown",
      "source": [
        "## Final Implementation"
      ],
      "metadata": {
        "id": "clRYe3MG0DNA"
      }
    },
    {
      "cell_type": "code",
      "source": [
        "def google_search_runner(search_keyword: str):\n",
        "    \"\"\"Returns the google results for the given search word\"\"\"\n",
        "    url = \"https://google.serper.dev/search\"\n",
        "\n",
        "    payload = json.dumps({\n",
        "        \"q\": search_keyword\n",
        "    })\n",
        "\n",
        "    headers = {\n",
        "        'X-API-KEY': serper_api_key,\n",
        "        'Content-Type': 'application/json'\n",
        "    }\n",
        "\n",
        "    response = requests.request(\"POST\", url, headers=headers, data=payload)\n",
        "    print(f\"Google Search for: {search_keyword}\")\n",
        "    return response.text"
      ],
      "metadata": {
        "id": "IA0QxEhS0X1R"
      },
      "execution_count": null,
      "outputs": []
    },
    {
      "cell_type": "code",
      "source": [
        "def find_class_info(class_name: str, school_name:str):\n",
        "  \"\"\" Given the name of a class and school find details\"\"\"\n",
        "  google_search = {'function_declarations': [\n",
        "      {\n",
        "      \"name\": \"google_search\",\n",
        "      \"description\": \"Google search to return results of search keywords\",\n",
        "      \"parameters\": {\n",
        "          \"type_\": \"OBJECT\",\n",
        "          \"properties\": {\n",
        "              \"search_keyword\": {\n",
        "                  \"type_\": \"STRING\",\n",
        "                  \"description\": \"A great search keyword that most likely to return resuls for the information you are looking for\"\n",
        "              }\n",
        "          },\n",
        "          \"required\": [\n",
        "              \"search_keyword\"\n",
        "          ]\n",
        "      }\n",
        "  }\n",
        "  ]}\n",
        "\n",
        "  glm.Tool(google_search)\n",
        "\n",
        "  # Implement Retry\n",
        "  try:\n",
        "\n",
        "    model = genai.GenerativeModel('gemini-pro', tools=google_search)\n",
        "    chat = model.start_chat()\n",
        "\n",
        "    response = chat.send_message(\n",
        "        f\"Find more information about {class_name} taught at {school_name}\",\n",
        "    )\n",
        "\n",
        "\n",
        "    fc = response.candidates[0].content.parts[0].function_call\n",
        "\n",
        "    key_word = fc.args['search_keyword']\n",
        "\n",
        "\n",
        "\n",
        "  except Exception as e:\n",
        "    print(f\"Error {e}\")\n",
        "    return \"Error in generating Key Word with Gemini\"\n",
        "\n",
        "\n",
        "  try:\n",
        "    result = google_search_runner(key_word)\n",
        "\n",
        "  except Exception as e:\n",
        "    print(f\"Error {e}\")\n",
        "    return \"Error in generating search from serper\"\n",
        "\n",
        "  response = chat.send_message(\n",
        "    glm.Content(\n",
        "    parts=[glm.Part(\n",
        "        function_response = glm.FunctionResponse(\n",
        "          name='google_search',\n",
        "          response={'result': result}))]))\n",
        "\n",
        "  return response.text\n",
        "\n"
      ],
      "metadata": {
        "id": "HQdhbNLGyxGV"
      },
      "execution_count": null,
      "outputs": []
    },
    {
      "cell_type": "code",
      "source": [
        "find_class_info(\"CS230\",\"Duke University\")"
      ],
      "metadata": {
        "colab": {
          "base_uri": "https://localhost:8080/",
          "height": 70
        },
        "id": "cAv3PmcN2Zex",
        "outputId": "dd210d26-d906-4b9b-f533-642a7e3f13b2"
      },
      "execution_count": null,
      "outputs": [
        {
          "output_type": "stream",
          "name": "stdout",
          "text": [
            "Google Search for: CS230 Duke University\n"
          ]
        },
        {
          "output_type": "execute_result",
          "data": {
            "text/plain": [
              "'Here is some information about CS230 at Duke University. CS230 is an undergraduate course that introduces students to the mathematical foundations of computer science. The course covers topics such as sets, functions, relations, graphs, trees, and algorithms. CS230 is a required course for all computer science majors at Duke University. The course is typically offered in the spring semester.'"
            ],
            "application/vnd.google.colaboratory.intrinsic+json": {
              "type": "string"
            }
          },
          "metadata": {},
          "execution_count": 11
        }
      ]
    },
    {
      "cell_type": "code",
      "source": [
        "find_class_info(\"CS224W\",\"Stanford University\")"
      ],
      "metadata": {
        "colab": {
          "base_uri": "https://localhost:8080/",
          "height": 87
        },
        "id": "dZfoiWpb6DLL",
        "outputId": "9117f385-77b7-4072-cfdc-362ae20b1738"
      },
      "execution_count": null,
      "outputs": [
        {
          "output_type": "stream",
          "name": "stdout",
          "text": [
            "Google Search for: CS224W at Stanford University\n"
          ]
        },
        {
          "output_type": "execute_result",
          "data": {
            "text/plain": [
              "'CS224W: Machine Learning with Graphs is a course offered by Stanford University. It focuses on computational, algorithmic, and modeling challenges specific to the analysis of graphs. The course covers topics such as graph algorithms, graph mining, graph clustering, and graph visualization. It also provides hands-on experience with real-world datasets and open-source software tools. The course is designed for students with a strong background in computer science and mathematics.'"
            ],
            "application/vnd.google.colaboratory.intrinsic+json": {
              "type": "string"
            }
          },
          "metadata": {},
          "execution_count": 12
        }
      ]
    },
    {
      "cell_type": "code",
      "source": [],
      "metadata": {
        "id": "rvf5Nn0a6SM8"
      },
      "execution_count": null,
      "outputs": []
    },
    {
      "cell_type": "markdown",
      "source": [
        "# Article Reading"
      ],
      "metadata": {
        "id": "R_pXxzNXIMtn"
      }
    },
    {
      "cell_type": "code",
      "source": [
        "!pip install langchain-google-genai\n",
        "!pip install langchain\n",
        "!pip install langchain_community"
      ],
      "metadata": {
        "id": "Fb6qCIGqIQCG"
      },
      "execution_count": null,
      "outputs": []
    },
    {
      "cell_type": "code",
      "source": [
        "try:\n",
        "    # Used to securely store your API key\n",
        "    from google.colab import userdata\n",
        "\n",
        "    # Or use `os.getenv('API_KEY')` to fetch an environment variable.\n",
        "    GOOGLE_API_KEY=userdata.get('GOOGLE_API_KEY')\n",
        "except ImportError:\n",
        "    import os\n",
        "    GOOGLE_API_KEY = os.environ['GOOGLE_API_KEY']\n",
        "\n",
        "genai.configure(api_key=GOOGLE_API_KEY)"
      ],
      "metadata": {
        "id": "yP4jTLkcIoWs"
      },
      "execution_count": null,
      "outputs": []
    },
    {
      "cell_type": "code",
      "source": [
        "#Import Modules\n",
        "from langchain_google_genai import ChatGoogleGenerativeAI\n",
        "from langchain_google_genai import GoogleGenerativeAIEmbeddings\n",
        "from langchain_community.document_loaders import WebBaseLoader\n",
        "from langchain.chains import StuffDocumentsChain\n",
        "from langchain.chains.llm import LLMChain\n",
        "from langchain.prompts import PromptTemplate\n",
        "\n",
        "#Initialize Model\n",
        "llm = ChatGoogleGenerativeAI(model=\"gemini-pro\",google_api_key=GOOGLE_API_KEY)\n",
        "\n",
        "#Load the blog\n",
        "loader = WebBaseLoader(\"https://thenewstack.io/the-building-blocks-of-llms-vectors-tokens-and-embeddings/\")\n",
        "docs = loader.load()\n",
        "\n",
        "#Define the Summarize Chain\n",
        "template = \"\"\"Write a concise summary of the following:\n",
        "\"{text}\"\n",
        "CONCISE SUMMARY:\"\"\"\n",
        "\n",
        "prompt = PromptTemplate.from_template(template)\n",
        "\n",
        "llm_chain = LLMChain(llm=llm, prompt=prompt)\n",
        "stuff_chain = StuffDocumentsChain(llm_chain=llm_chain, document_variable_name=\"text\")\n",
        "\n",
        "#Invoke Chain\n",
        "response=stuff_chain.invoke(docs)\n",
        "print(response[\"output_text\"])"
      ],
      "metadata": {
        "colab": {
          "base_uri": "https://localhost:8080/"
        },
        "id": "NYvw1JnVIPPe",
        "outputId": "95b606e0-f46c-4cec-c7a0-9ae3abeb168b"
      },
      "execution_count": null,
      "outputs": [
        {
          "output_type": "stream",
          "name": "stdout",
          "text": [
            "This article explains the fundamental building blocks of LLMs: vectors, tokens, and embeddings. Vectors are numerical representations of text or data that are understood by LLMs. Tokens are the basic units of data processed by LLMs, which are generated by tokenizers. Embeddings are vectors that represent the meaning and context of text, allowing LLMs to understand language with nuance and perform tasks like sentiment analysis and text generation.\n"
          ]
        }
      ]
    },
    {
      "cell_type": "code",
      "source": [
        "def article_reader_runner(url:str):\n",
        "  \"Given a url, this returns the summary of the article\"\n",
        "  lm = ChatGoogleGenerativeAI(model=\"gemini-pro\",google_api_key=GOOGLE_API_KEY)\n",
        "\n",
        "  #Load the blog\n",
        "  loader = WebBaseLoader(url)\n",
        "  docs = loader.load()\n",
        "\n",
        "  #Define the Summarize Chain\n",
        "  template = \"\"\"Write a concise summary of the following:\n",
        "  \"{text}\"\n",
        "  CONCISE SUMMARY:\"\"\"\n",
        "\n",
        "  prompt = PromptTemplate.from_template(template)\n",
        "\n",
        "  llm_chain = LLMChain(llm=llm, prompt=prompt)\n",
        "  stuff_chain = StuffDocumentsChain(llm_chain=llm_chain, document_variable_name=\"text\")\n",
        "\n",
        "  #Invoke Chain\n",
        "  response=stuff_chain.invoke(docs)\n",
        "  return response[\"output_text\"]"
      ],
      "metadata": {
        "id": "NgcArSStIyD4"
      },
      "execution_count": null,
      "outputs": []
    },
    {
      "cell_type": "code",
      "source": [
        "url = \"https://thenewstack.io/how-to-cure-llm-weaknesses-with-vector-databases/\""
      ],
      "metadata": {
        "id": "sRK1dCRUJHej"
      },
      "execution_count": null,
      "outputs": []
    },
    {
      "cell_type": "code",
      "source": [
        "article_reader_runner(url)"
      ],
      "metadata": {
        "colab": {
          "base_uri": "https://localhost:8080/",
          "height": 52
        },
        "id": "nWd2Or8-JNwJ",
        "outputId": "3bac1801-173b-4488-a9da-d5a39f0e6ebf"
      },
      "execution_count": null,
      "outputs": [
        {
          "output_type": "execute_result",
          "data": {
            "text/plain": [
              "'Vector databases can resolve the limitations of off-the-shelf LLMs, including outdated data, lack of domain-specific context, and AI hallucinations. By incorporating proprietary data and vector embeddings into LLMs, vector databases enhance accuracy and relevance, leading to more effective and efficient AI applications.'"
            ],
            "application/vnd.google.colaboratory.intrinsic+json": {
              "type": "string"
            }
          },
          "metadata": {},
          "execution_count": 30
        }
      ]
    },
    {
      "cell_type": "code",
      "source": [
        "article_summarizer = {'function_declarations': [\n",
        "      {\n",
        "      \"name\": \"article_summarizer\",\n",
        "      \"description\": \"Article summarizer given a url\",\n",
        "      \"parameters\": {\n",
        "          \"type_\": \"OBJECT\",\n",
        "          \"properties\": {\n",
        "              \"url\": {\n",
        "                  \"type_\": \"STRING\",\n",
        "                  \"description\": \"URL of the webpage to be read\"\n",
        "              }\n",
        "          },\n",
        "          \"required\": [\n",
        "              \"url\"\n",
        "          ]\n",
        "      }\n",
        "  }\n",
        "  ]}"
      ],
      "metadata": {
        "id": "E5fleNVUJPWK"
      },
      "execution_count": null,
      "outputs": []
    },
    {
      "cell_type": "code",
      "source": [
        "glm.Tool(article_summarizer)"
      ],
      "metadata": {
        "colab": {
          "base_uri": "https://localhost:8080/"
        },
        "id": "7fON32wdKB-2",
        "outputId": "dcd8e8f8-9e39-4682-a053-9dfd62ecec46"
      },
      "execution_count": null,
      "outputs": [
        {
          "output_type": "execute_result",
          "data": {
            "text/plain": [
              "function_declarations {\n",
              "  name: \"article_summarizer\"\n",
              "  description: \"Article summarizer given a url\"\n",
              "  parameters {\n",
              "    type_: OBJECT\n",
              "    properties {\n",
              "      key: \"url\"\n",
              "      value {\n",
              "        type_: STRING\n",
              "        description: \"URL of the webpage to be read\"\n",
              "      }\n",
              "    }\n",
              "    required: \"url\"\n",
              "  }\n",
              "}"
            ]
          },
          "metadata": {},
          "execution_count": 32
        }
      ]
    },
    {
      "cell_type": "code",
      "source": [
        "model = genai.GenerativeModel('gemini-pro', tools=article_summarizer)\n",
        "chat = model.start_chat()\n",
        "\n",
        "response = chat.send_message(\n",
        "    f\"Find more information about what {url} is about\",\n",
        ")\n",
        "\n",
        "\n",
        "fc = response.candidates[0].content.parts[0].function_call\n",
        "\n",
        "fc"
      ],
      "metadata": {
        "colab": {
          "base_uri": "https://localhost:8080/"
        },
        "id": "ehvKIDJjKDyL",
        "outputId": "57ae099f-906a-4e80-9ec6-3388039f69c4"
      },
      "execution_count": null,
      "outputs": [
        {
          "output_type": "execute_result",
          "data": {
            "text/plain": [
              "name: \"article_summarizer\"\n",
              "args {\n",
              "  fields {\n",
              "    key: \"url\"\n",
              "    value {\n",
              "      string_value: \"https://thenewstack.io/how-to-cure-llm-weaknesses-with-vector-databases/\"\n",
              "    }\n",
              "  }\n",
              "}"
            ]
          },
          "metadata": {},
          "execution_count": 33
        }
      ]
    },
    {
      "cell_type": "code",
      "source": [
        "url_arg = fc.args['url']\n",
        "\n",
        "\n",
        "result = article_reader_runner(url_arg)\n",
        "\n",
        "\n",
        "response = chat.send_message(\n",
        "  glm.Content(\n",
        "  parts=[glm.Part(\n",
        "      function_response = glm.FunctionResponse(\n",
        "        name='article_summarizer',\n",
        "        response={'result': result}))]))\n",
        "\n",
        "response.text"
      ],
      "metadata": {
        "colab": {
          "base_uri": "https://localhost:8080/",
          "height": 70
        },
        "id": "ChfxaFVIJ5tM",
        "outputId": "f3efcb9f-b1f5-4a96-e15f-b2a95835239d"
      },
      "execution_count": null,
      "outputs": [
        {
          "output_type": "execute_result",
          "data": {
            "text/plain": [
              "'The provided URL is about how to address LLM weaknesses using vector databases. LLMs have known limitations such as outdated training data, lack of context specific to an organization, and the tendency towards AI hallucination. Vector databases use vector embeddings to encode data, which increases value and improves the accuracy of search results. When combined with LLMs, businesses can extend off-the-shelf AI solutions with domain-specific knowledge which mitigates risks and unlocks the potential of real-time AI applications.'"
            ],
            "application/vnd.google.colaboratory.intrinsic+json": {
              "type": "string"
            }
          },
          "metadata": {},
          "execution_count": 34
        }
      ]
    },
    {
      "cell_type": "code",
      "source": [],
      "metadata": {
        "id": "OcJLy10kLEZm"
      },
      "execution_count": null,
      "outputs": []
    },
    {
      "cell_type": "markdown",
      "source": [
        "#  Search and Summarize"
      ],
      "metadata": {
        "id": "mdlfzB7tLK-M"
      }
    },
    {
      "cell_type": "markdown",
      "source": [
        "## Imports and Config"
      ],
      "metadata": {
        "id": "4_9kznFESihQ"
      }
    },
    {
      "cell_type": "code",
      "source": [
        "#Import Modules\n",
        "from langchain_google_genai import ChatGoogleGenerativeAI\n",
        "from langchain_google_genai import GoogleGenerativeAIEmbeddings\n",
        "from langchain_community.document_loaders import WebBaseLoader\n",
        "from langchain.chains import StuffDocumentsChain\n",
        "from langchain.chains.llm import LLMChain\n",
        "from langchain.prompts import PromptTemplate\n",
        "\n",
        "import pathlib\n",
        "import textwrap\n",
        "import time\n",
        "import json\n",
        "import requests\n",
        "\n",
        "import google.generativeai as genai\n",
        "import google.ai.generativelanguage as glm\n",
        "from google.colab import userdata\n",
        "\n",
        "\n",
        "from IPython import display\n",
        "from IPython.display import Markdown"
      ],
      "metadata": {
        "id": "Y2Bmgr3FSiU2"
      },
      "execution_count": 16,
      "outputs": []
    },
    {
      "cell_type": "code",
      "source": [
        "GOOGLE_API_KEY = userdata.get('GOOGLE_API_KEY')"
      ],
      "metadata": {
        "id": "uall-DpNSqSa"
      },
      "execution_count": 17,
      "outputs": []
    },
    {
      "cell_type": "code",
      "source": [
        "serper_api_key = userdata.get('SERP_API_KEY')"
      ],
      "metadata": {
        "id": "9i_g7ZJKSvgD"
      },
      "execution_count": 18,
      "outputs": []
    },
    {
      "cell_type": "markdown",
      "source": [
        "## Search"
      ],
      "metadata": {
        "id": "6B77yVbYLgoD"
      }
    },
    {
      "cell_type": "code",
      "source": [
        "def google_search_runner(search_keyword: str):\n",
        "    \"\"\"Returns the google results for the given search word\"\"\"\n",
        "    url = \"https://google.serper.dev/search\"\n",
        "\n",
        "    payload = json.dumps({\n",
        "        \"q\": search_keyword\n",
        "    })\n",
        "\n",
        "    headers = {\n",
        "        'X-API-KEY': serper_api_key,\n",
        "        'Content-Type': 'application/json'\n",
        "    }\n",
        "\n",
        "    response = requests.request(\"POST\", url, headers=headers, data=payload)\n",
        "    print(f\"Google Search for: {search_keyword}\")\n",
        "    return response.text"
      ],
      "metadata": {
        "id": "T0E1p5-uLlR0"
      },
      "execution_count": 19,
      "outputs": []
    },
    {
      "cell_type": "code",
      "source": [
        "google_search = {'function_declarations': [\n",
        "      {\n",
        "      \"name\": \"google_search\",\n",
        "      \"description\": \"Google search to return results of search keywords\",\n",
        "      \"parameters\": {\n",
        "          \"type_\": \"OBJECT\",\n",
        "          \"properties\": {\n",
        "              \"search_keyword\": {\n",
        "                  \"type_\": \"STRING\",\n",
        "                  \"description\": \"A great search keyword that most likely to return resuls for the information you are looking for\"\n",
        "              }\n",
        "          },\n",
        "          \"required\": [\n",
        "              \"search_keyword\"\n",
        "          ]\n",
        "      }\n",
        "  }\n",
        "]}\n",
        "\n",
        "glm.Tool(google_search)"
      ],
      "metadata": {
        "colab": {
          "base_uri": "https://localhost:8080/"
        },
        "id": "Jnp15JIXLNrs",
        "outputId": "44f87a65-05bd-46de-f2e5-2e57ffca3111"
      },
      "execution_count": 20,
      "outputs": [
        {
          "output_type": "execute_result",
          "data": {
            "text/plain": [
              "function_declarations {\n",
              "  name: \"google_search\"\n",
              "  description: \"Google search to return results of search keywords\"\n",
              "  parameters {\n",
              "    type_: OBJECT\n",
              "    properties {\n",
              "      key: \"search_keyword\"\n",
              "      value {\n",
              "        type_: STRING\n",
              "        description: \"A great search keyword that most likely to return resuls for the information you are looking for\"\n",
              "      }\n",
              "    }\n",
              "    required: \"search_keyword\"\n",
              "  }\n",
              "}"
            ]
          },
          "metadata": {},
          "execution_count": 20
        }
      ]
    },
    {
      "cell_type": "markdown",
      "source": [
        "## Summarizer"
      ],
      "metadata": {
        "id": "yzSHH1sYLr1U"
      }
    },
    {
      "cell_type": "code",
      "source": [
        "def article_reader_runner(url:str):\n",
        "  \"Given a url, this returns the summary of the article\"\n",
        "  print(f\"Reading article: {url}\")\n",
        "  llm = ChatGoogleGenerativeAI(model=\"gemini-pro\",google_api_key=GOOGLE_API_KEY)\n",
        "\n",
        "  #Load the blog\n",
        "  loader = WebBaseLoader(url)\n",
        "  docs = loader.load()\n",
        "\n",
        "  #Define the Summarize Chain\n",
        "  template = \"\"\"Write a concise summary of the following:\n",
        "  \"{text}\"\n",
        "  CONCISE SUMMARY:\"\"\"\n",
        "\n",
        "  prompt = PromptTemplate.from_template(template)\n",
        "\n",
        "  llm_chain = LLMChain(llm=llm, prompt=prompt)\n",
        "  stuff_chain = StuffDocumentsChain(llm_chain=llm_chain, document_variable_name=\"text\")\n",
        "\n",
        "  #Invoke Chain\n",
        "  response=stuff_chain.invoke(docs)\n",
        "  return response[\"output_text\"]"
      ],
      "metadata": {
        "id": "umNCngjtLo3w"
      },
      "execution_count": 21,
      "outputs": []
    },
    {
      "cell_type": "code",
      "source": [
        "article_summarizer = {'function_declarations': [\n",
        "      {\n",
        "      \"name\": \"article_summarizer\",\n",
        "      \"description\": \"Reads article given a url: Returns summary of article\",\n",
        "      \"parameters\": {\n",
        "          \"type_\": \"OBJECT\",\n",
        "          \"properties\": {\n",
        "              \"url\": {\n",
        "                  \"type_\": \"STRING\",\n",
        "                  \"description\": \"URL of the webpage to be read\"\n",
        "              }\n",
        "          },\n",
        "          \"required\": [\n",
        "              \"url\"\n",
        "          ]\n",
        "      }\n",
        "  }\n",
        "]}"
      ],
      "metadata": {
        "id": "Ge5MnAioLy3S"
      },
      "execution_count": 22,
      "outputs": []
    },
    {
      "cell_type": "markdown",
      "source": [
        "## Together"
      ],
      "metadata": {
        "id": "mOnMbClKL1gZ"
      }
    },
    {
      "cell_type": "code",
      "source": [
        "def handle_response(response,chat):\n",
        "  if response.candidates[0].content.parts[0].function_call.name == \"google_search\":\n",
        "    fc = response.candidates[0].content.parts[0].function_call\n",
        "    key_word = fc.args[\"search_keyword\"]\n",
        "    result = google_search_runner(key_word)\n",
        "    response = chat.send_message(\n",
        "      glm.Content(\n",
        "      parts=[glm.Part(\n",
        "          function_response = glm.FunctionResponse(\n",
        "            name='google_search',\n",
        "            response={'result': result}))]))\n",
        "    return response\n",
        "  elif response.candidates[0].content.parts[0].function_call.name == \"article_summarizer\":\n",
        "    fc = response.candidates[0].content.parts[0].function_call\n",
        "    url_arg = fc.args['url']\n",
        "    result = article_reader_runner(url_arg)\n",
        "    response = chat.send_message(\n",
        "      glm.Content(\n",
        "      parts=[glm.Part(\n",
        "          function_response = glm.FunctionResponse(\n",
        "            name='article_summarizer',\n",
        "            response={'result': result}))]))\n",
        "    return response\n",
        "\n",
        "  return response\n"
      ],
      "metadata": {
        "id": "XE8bYM0yOfKm"
      },
      "execution_count": 23,
      "outputs": []
    },
    {
      "cell_type": "code",
      "source": [
        "def class_details(class_name,school_name):\n",
        "  model = genai.GenerativeModel('gemini-1.0-pro', tools=[article_summarizer,google_search])\n",
        "  chat = model.start_chat()\n",
        "  response = chat.send_message(\n",
        "    f\"Find more information about the {school_name} {class_name} by first searching for articles and then reading from the url. We require a thorough understanding of the course contents and objectives\",\n",
        "  )\n",
        "\n",
        "  fc = response.candidates[0].content.parts[0].function_call\n",
        "\n",
        "  while fc:\n",
        "    response = handle_response(response,chat)\n",
        "    fc = response.candidates[0].content.parts[0].function_call\n",
        "\n",
        "  return response.text\n"
      ],
      "metadata": {
        "id": "NFTsAOmGQLJ-"
      },
      "execution_count": 24,
      "outputs": []
    },
    {
      "cell_type": "code",
      "source": [
        "class_details(\"CS330\",\"Duke\")"
      ],
      "metadata": {
        "id": "j0mraWl2L0iF"
      },
      "execution_count": null,
      "outputs": []
    },
    {
      "cell_type": "code",
      "source": [
        "class_details(\"CS224W\",\"Stanford University\")"
      ],
      "metadata": {
        "id": "XwXWOCTrQ6el",
        "colab": {
          "base_uri": "https://localhost:8080/",
          "height": 1000
        },
        "outputId": "f64077a1-f21d-4d3f-fb1d-48302ff568c1"
      },
      "execution_count": 26,
      "outputs": [
        {
          "output_type": "stream",
          "name": "stderr",
          "text": [
            "ERROR:grpc._plugin_wrapping:AuthMetadataPluginCallback \"<google.auth.transport.grpc.AuthMetadataPlugin object at 0x789a26f95300>\" raised exception!\n",
            "Traceback (most recent call last):\n",
            "  File \"/usr/local/lib/python3.10/dist-packages/google/auth/compute_engine/credentials.py\", line 128, in refresh\n",
            "    self._retrieve_info(request)\n",
            "  File \"/usr/local/lib/python3.10/dist-packages/google/auth/compute_engine/credentials.py\", line 101, in _retrieve_info\n",
            "    info = _metadata.get_service_account_info(\n",
            "  File \"/usr/local/lib/python3.10/dist-packages/google/auth/compute_engine/_metadata.py\", line 323, in get_service_account_info\n",
            "    return get(request, path, params={\"recursive\": \"true\"})\n",
            "  File \"/usr/local/lib/python3.10/dist-packages/google/auth/compute_engine/_metadata.py\", line 248, in get\n",
            "    raise exceptions.TransportError(\n",
            "google.auth.exceptions.TransportError: (\"Failed to retrieve http://metadata.google.internal/computeMetadata/v1/instance/service-accounts/default/?recursive=true from the Google Compute Engine metadata service. Status: 404 Response:\\nb''\", <google.auth.transport.requests._Response object at 0x7899ff5fa920>)\n",
            "\n",
            "The above exception was the direct cause of the following exception:\n",
            "\n",
            "Traceback (most recent call last):\n",
            "  File \"/usr/local/lib/python3.10/dist-packages/grpc/_plugin_wrapping.py\", line 105, in __call__\n",
            "    self._metadata_plugin(\n",
            "  File \"/usr/local/lib/python3.10/dist-packages/google/auth/transport/grpc.py\", line 95, in __call__\n",
            "    callback(self._get_authorization_headers(context), None)\n",
            "  File \"/usr/local/lib/python3.10/dist-packages/google/auth/transport/grpc.py\", line 81, in _get_authorization_headers\n",
            "    self._credentials.before_request(\n",
            "  File \"/usr/local/lib/python3.10/dist-packages/google/auth/credentials.py\", line 228, in before_request\n",
            "    self._blocking_refresh(request)\n",
            "  File \"/usr/local/lib/python3.10/dist-packages/google/auth/credentials.py\", line 191, in _blocking_refresh\n",
            "    self.refresh(request)\n",
            "  File \"/usr/local/lib/python3.10/dist-packages/google/auth/compute_engine/credentials.py\", line 134, in refresh\n",
            "    raise new_exc from caught_exc\n",
            "google.auth.exceptions.RefreshError: (\"Failed to retrieve http://metadata.google.internal/computeMetadata/v1/instance/service-accounts/default/?recursive=true from the Google Compute Engine metadata service. Status: 404 Response:\\nb''\", <google.auth.transport.requests._Response object at 0x7899ff5fa920>)\n",
            "ERROR:grpc._plugin_wrapping:AuthMetadataPluginCallback \"<google.auth.transport.grpc.AuthMetadataPlugin object at 0x789a26f95300>\" raised exception!\n",
            "Traceback (most recent call last):\n",
            "  File \"/usr/local/lib/python3.10/dist-packages/google/auth/compute_engine/credentials.py\", line 128, in refresh\n",
            "    self._retrieve_info(request)\n",
            "  File \"/usr/local/lib/python3.10/dist-packages/google/auth/compute_engine/credentials.py\", line 101, in _retrieve_info\n",
            "    info = _metadata.get_service_account_info(\n",
            "  File \"/usr/local/lib/python3.10/dist-packages/google/auth/compute_engine/_metadata.py\", line 323, in get_service_account_info\n",
            "    return get(request, path, params={\"recursive\": \"true\"})\n",
            "  File \"/usr/local/lib/python3.10/dist-packages/google/auth/compute_engine/_metadata.py\", line 248, in get\n",
            "    raise exceptions.TransportError(\n",
            "google.auth.exceptions.TransportError: (\"Failed to retrieve http://metadata.google.internal/computeMetadata/v1/instance/service-accounts/default/?recursive=true from the Google Compute Engine metadata service. Status: 404 Response:\\nb''\", <google.auth.transport.requests._Response object at 0x7899ff5fa500>)\n",
            "\n",
            "The above exception was the direct cause of the following exception:\n",
            "\n",
            "Traceback (most recent call last):\n",
            "  File \"/usr/local/lib/python3.10/dist-packages/grpc/_plugin_wrapping.py\", line 105, in __call__\n",
            "    self._metadata_plugin(\n",
            "  File \"/usr/local/lib/python3.10/dist-packages/google/auth/transport/grpc.py\", line 95, in __call__\n",
            "    callback(self._get_authorization_headers(context), None)\n",
            "  File \"/usr/local/lib/python3.10/dist-packages/google/auth/transport/grpc.py\", line 81, in _get_authorization_headers\n",
            "    self._credentials.before_request(\n",
            "  File \"/usr/local/lib/python3.10/dist-packages/google/auth/credentials.py\", line 228, in before_request\n",
            "    self._blocking_refresh(request)\n",
            "  File \"/usr/local/lib/python3.10/dist-packages/google/auth/credentials.py\", line 191, in _blocking_refresh\n",
            "    self.refresh(request)\n",
            "  File \"/usr/local/lib/python3.10/dist-packages/google/auth/compute_engine/credentials.py\", line 134, in refresh\n",
            "    raise new_exc from caught_exc\n",
            "google.auth.exceptions.RefreshError: (\"Failed to retrieve http://metadata.google.internal/computeMetadata/v1/instance/service-accounts/default/?recursive=true from the Google Compute Engine metadata service. Status: 404 Response:\\nb''\", <google.auth.transport.requests._Response object at 0x7899ff5fa500>)\n",
            "ERROR:grpc._plugin_wrapping:AuthMetadataPluginCallback \"<google.auth.transport.grpc.AuthMetadataPlugin object at 0x789a26f95300>\" raised exception!\n",
            "Traceback (most recent call last):\n",
            "  File \"/usr/local/lib/python3.10/dist-packages/google/auth/compute_engine/credentials.py\", line 128, in refresh\n",
            "    self._retrieve_info(request)\n",
            "  File \"/usr/local/lib/python3.10/dist-packages/google/auth/compute_engine/credentials.py\", line 101, in _retrieve_info\n",
            "    info = _metadata.get_service_account_info(\n",
            "  File \"/usr/local/lib/python3.10/dist-packages/google/auth/compute_engine/_metadata.py\", line 323, in get_service_account_info\n",
            "    return get(request, path, params={\"recursive\": \"true\"})\n",
            "  File \"/usr/local/lib/python3.10/dist-packages/google/auth/compute_engine/_metadata.py\", line 248, in get\n",
            "    raise exceptions.TransportError(\n",
            "google.auth.exceptions.TransportError: (\"Failed to retrieve http://metadata.google.internal/computeMetadata/v1/instance/service-accounts/default/?recursive=true from the Google Compute Engine metadata service. Status: 404 Response:\\nb''\", <google.auth.transport.requests._Response object at 0x7899ff5fa440>)\n",
            "\n",
            "The above exception was the direct cause of the following exception:\n",
            "\n",
            "Traceback (most recent call last):\n",
            "  File \"/usr/local/lib/python3.10/dist-packages/grpc/_plugin_wrapping.py\", line 105, in __call__\n",
            "    self._metadata_plugin(\n",
            "  File \"/usr/local/lib/python3.10/dist-packages/google/auth/transport/grpc.py\", line 95, in __call__\n",
            "    callback(self._get_authorization_headers(context), None)\n",
            "  File \"/usr/local/lib/python3.10/dist-packages/google/auth/transport/grpc.py\", line 81, in _get_authorization_headers\n",
            "    self._credentials.before_request(\n",
            "  File \"/usr/local/lib/python3.10/dist-packages/google/auth/credentials.py\", line 228, in before_request\n",
            "    self._blocking_refresh(request)\n",
            "  File \"/usr/local/lib/python3.10/dist-packages/google/auth/credentials.py\", line 191, in _blocking_refresh\n",
            "    self.refresh(request)\n",
            "  File \"/usr/local/lib/python3.10/dist-packages/google/auth/compute_engine/credentials.py\", line 134, in refresh\n",
            "    raise new_exc from caught_exc\n",
            "google.auth.exceptions.RefreshError: (\"Failed to retrieve http://metadata.google.internal/computeMetadata/v1/instance/service-accounts/default/?recursive=true from the Google Compute Engine metadata service. Status: 404 Response:\\nb''\", <google.auth.transport.requests._Response object at 0x7899ff5fa440>)\n",
            "ERROR:grpc._plugin_wrapping:AuthMetadataPluginCallback \"<google.auth.transport.grpc.AuthMetadataPlugin object at 0x789a26f95300>\" raised exception!\n",
            "Traceback (most recent call last):\n",
            "  File \"/usr/local/lib/python3.10/dist-packages/google/auth/compute_engine/credentials.py\", line 128, in refresh\n",
            "    self._retrieve_info(request)\n",
            "  File \"/usr/local/lib/python3.10/dist-packages/google/auth/compute_engine/credentials.py\", line 101, in _retrieve_info\n",
            "    info = _metadata.get_service_account_info(\n",
            "  File \"/usr/local/lib/python3.10/dist-packages/google/auth/compute_engine/_metadata.py\", line 323, in get_service_account_info\n",
            "    return get(request, path, params={\"recursive\": \"true\"})\n",
            "  File \"/usr/local/lib/python3.10/dist-packages/google/auth/compute_engine/_metadata.py\", line 248, in get\n",
            "    raise exceptions.TransportError(\n",
            "google.auth.exceptions.TransportError: (\"Failed to retrieve http://metadata.google.internal/computeMetadata/v1/instance/service-accounts/default/?recursive=true from the Google Compute Engine metadata service. Status: 404 Response:\\nb''\", <google.auth.transport.requests._Response object at 0x7899ff5f96f0>)\n",
            "\n",
            "The above exception was the direct cause of the following exception:\n",
            "\n",
            "Traceback (most recent call last):\n",
            "  File \"/usr/local/lib/python3.10/dist-packages/grpc/_plugin_wrapping.py\", line 105, in __call__\n",
            "    self._metadata_plugin(\n",
            "  File \"/usr/local/lib/python3.10/dist-packages/google/auth/transport/grpc.py\", line 95, in __call__\n",
            "    callback(self._get_authorization_headers(context), None)\n",
            "  File \"/usr/local/lib/python3.10/dist-packages/google/auth/transport/grpc.py\", line 81, in _get_authorization_headers\n",
            "    self._credentials.before_request(\n",
            "  File \"/usr/local/lib/python3.10/dist-packages/google/auth/credentials.py\", line 228, in before_request\n",
            "    self._blocking_refresh(request)\n",
            "  File \"/usr/local/lib/python3.10/dist-packages/google/auth/credentials.py\", line 191, in _blocking_refresh\n",
            "    self.refresh(request)\n",
            "  File \"/usr/local/lib/python3.10/dist-packages/google/auth/compute_engine/credentials.py\", line 134, in refresh\n",
            "    raise new_exc from caught_exc\n",
            "google.auth.exceptions.RefreshError: (\"Failed to retrieve http://metadata.google.internal/computeMetadata/v1/instance/service-accounts/default/?recursive=true from the Google Compute Engine metadata service. Status: 404 Response:\\nb''\", <google.auth.transport.requests._Response object at 0x7899ff5f96f0>)\n",
            "ERROR:grpc._plugin_wrapping:AuthMetadataPluginCallback \"<google.auth.transport.grpc.AuthMetadataPlugin object at 0x789a26f95300>\" raised exception!\n",
            "Traceback (most recent call last):\n",
            "  File \"/usr/local/lib/python3.10/dist-packages/google/auth/compute_engine/credentials.py\", line 128, in refresh\n",
            "    self._retrieve_info(request)\n",
            "  File \"/usr/local/lib/python3.10/dist-packages/google/auth/compute_engine/credentials.py\", line 101, in _retrieve_info\n",
            "    info = _metadata.get_service_account_info(\n",
            "  File \"/usr/local/lib/python3.10/dist-packages/google/auth/compute_engine/_metadata.py\", line 323, in get_service_account_info\n",
            "    return get(request, path, params={\"recursive\": \"true\"})\n",
            "  File \"/usr/local/lib/python3.10/dist-packages/google/auth/compute_engine/_metadata.py\", line 248, in get\n",
            "    raise exceptions.TransportError(\n",
            "google.auth.exceptions.TransportError: (\"Failed to retrieve http://metadata.google.internal/computeMetadata/v1/instance/service-accounts/default/?recursive=true from the Google Compute Engine metadata service. Status: 404 Response:\\nb''\", <google.auth.transport.requests._Response object at 0x7899fc455cf0>)\n",
            "\n",
            "The above exception was the direct cause of the following exception:\n",
            "\n",
            "Traceback (most recent call last):\n",
            "  File \"/usr/local/lib/python3.10/dist-packages/grpc/_plugin_wrapping.py\", line 105, in __call__\n",
            "    self._metadata_plugin(\n",
            "  File \"/usr/local/lib/python3.10/dist-packages/google/auth/transport/grpc.py\", line 95, in __call__\n",
            "    callback(self._get_authorization_headers(context), None)\n",
            "  File \"/usr/local/lib/python3.10/dist-packages/google/auth/transport/grpc.py\", line 81, in _get_authorization_headers\n",
            "    self._credentials.before_request(\n",
            "  File \"/usr/local/lib/python3.10/dist-packages/google/auth/credentials.py\", line 228, in before_request\n",
            "    self._blocking_refresh(request)\n",
            "  File \"/usr/local/lib/python3.10/dist-packages/google/auth/credentials.py\", line 191, in _blocking_refresh\n",
            "    self.refresh(request)\n",
            "  File \"/usr/local/lib/python3.10/dist-packages/google/auth/compute_engine/credentials.py\", line 134, in refresh\n",
            "    raise new_exc from caught_exc\n",
            "google.auth.exceptions.RefreshError: (\"Failed to retrieve http://metadata.google.internal/computeMetadata/v1/instance/service-accounts/default/?recursive=true from the Google Compute Engine metadata service. Status: 404 Response:\\nb''\", <google.auth.transport.requests._Response object at 0x7899fc455cf0>)\n",
            "ERROR:grpc._plugin_wrapping:AuthMetadataPluginCallback \"<google.auth.transport.grpc.AuthMetadataPlugin object at 0x789a26f95300>\" raised exception!\n",
            "Traceback (most recent call last):\n",
            "  File \"/usr/local/lib/python3.10/dist-packages/google/auth/compute_engine/credentials.py\", line 128, in refresh\n",
            "    self._retrieve_info(request)\n",
            "  File \"/usr/local/lib/python3.10/dist-packages/google/auth/compute_engine/credentials.py\", line 101, in _retrieve_info\n",
            "    info = _metadata.get_service_account_info(\n",
            "  File \"/usr/local/lib/python3.10/dist-packages/google/auth/compute_engine/_metadata.py\", line 323, in get_service_account_info\n",
            "    return get(request, path, params={\"recursive\": \"true\"})\n",
            "  File \"/usr/local/lib/python3.10/dist-packages/google/auth/compute_engine/_metadata.py\", line 248, in get\n",
            "    raise exceptions.TransportError(\n",
            "google.auth.exceptions.TransportError: (\"Failed to retrieve http://metadata.google.internal/computeMetadata/v1/instance/service-accounts/default/?recursive=true from the Google Compute Engine metadata service. Status: 404 Response:\\nb''\", <google.auth.transport.requests._Response object at 0x7899fc454580>)\n",
            "\n",
            "The above exception was the direct cause of the following exception:\n",
            "\n",
            "Traceback (most recent call last):\n",
            "  File \"/usr/local/lib/python3.10/dist-packages/grpc/_plugin_wrapping.py\", line 105, in __call__\n",
            "    self._metadata_plugin(\n",
            "  File \"/usr/local/lib/python3.10/dist-packages/google/auth/transport/grpc.py\", line 95, in __call__\n",
            "    callback(self._get_authorization_headers(context), None)\n",
            "  File \"/usr/local/lib/python3.10/dist-packages/google/auth/transport/grpc.py\", line 81, in _get_authorization_headers\n",
            "    self._credentials.before_request(\n",
            "  File \"/usr/local/lib/python3.10/dist-packages/google/auth/credentials.py\", line 228, in before_request\n",
            "    self._blocking_refresh(request)\n",
            "  File \"/usr/local/lib/python3.10/dist-packages/google/auth/credentials.py\", line 191, in _blocking_refresh\n",
            "    self.refresh(request)\n",
            "  File \"/usr/local/lib/python3.10/dist-packages/google/auth/compute_engine/credentials.py\", line 134, in refresh\n",
            "    raise new_exc from caught_exc\n",
            "google.auth.exceptions.RefreshError: (\"Failed to retrieve http://metadata.google.internal/computeMetadata/v1/instance/service-accounts/default/?recursive=true from the Google Compute Engine metadata service. Status: 404 Response:\\nb''\", <google.auth.transport.requests._Response object at 0x7899fc454580>)\n",
            "ERROR:grpc._plugin_wrapping:AuthMetadataPluginCallback \"<google.auth.transport.grpc.AuthMetadataPlugin object at 0x789a26f95300>\" raised exception!\n",
            "Traceback (most recent call last):\n",
            "  File \"/usr/local/lib/python3.10/dist-packages/google/auth/compute_engine/credentials.py\", line 128, in refresh\n",
            "    self._retrieve_info(request)\n",
            "  File \"/usr/local/lib/python3.10/dist-packages/google/auth/compute_engine/credentials.py\", line 101, in _retrieve_info\n",
            "    info = _metadata.get_service_account_info(\n",
            "  File \"/usr/local/lib/python3.10/dist-packages/google/auth/compute_engine/_metadata.py\", line 323, in get_service_account_info\n",
            "    return get(request, path, params={\"recursive\": \"true\"})\n",
            "  File \"/usr/local/lib/python3.10/dist-packages/google/auth/compute_engine/_metadata.py\", line 248, in get\n",
            "    raise exceptions.TransportError(\n",
            "google.auth.exceptions.TransportError: (\"Failed to retrieve http://metadata.google.internal/computeMetadata/v1/instance/service-accounts/default/?recursive=true from the Google Compute Engine metadata service. Status: 404 Response:\\nb''\", <google.auth.transport.requests._Response object at 0x7899fc4542b0>)\n",
            "\n",
            "The above exception was the direct cause of the following exception:\n",
            "\n",
            "Traceback (most recent call last):\n",
            "  File \"/usr/local/lib/python3.10/dist-packages/grpc/_plugin_wrapping.py\", line 105, in __call__\n",
            "    self._metadata_plugin(\n",
            "  File \"/usr/local/lib/python3.10/dist-packages/google/auth/transport/grpc.py\", line 95, in __call__\n",
            "    callback(self._get_authorization_headers(context), None)\n",
            "  File \"/usr/local/lib/python3.10/dist-packages/google/auth/transport/grpc.py\", line 81, in _get_authorization_headers\n",
            "    self._credentials.before_request(\n",
            "  File \"/usr/local/lib/python3.10/dist-packages/google/auth/credentials.py\", line 228, in before_request\n",
            "    self._blocking_refresh(request)\n",
            "  File \"/usr/local/lib/python3.10/dist-packages/google/auth/credentials.py\", line 191, in _blocking_refresh\n",
            "    self.refresh(request)\n",
            "  File \"/usr/local/lib/python3.10/dist-packages/google/auth/compute_engine/credentials.py\", line 134, in refresh\n",
            "    raise new_exc from caught_exc\n",
            "google.auth.exceptions.RefreshError: (\"Failed to retrieve http://metadata.google.internal/computeMetadata/v1/instance/service-accounts/default/?recursive=true from the Google Compute Engine metadata service. Status: 404 Response:\\nb''\", <google.auth.transport.requests._Response object at 0x7899fc4542b0>)\n",
            "ERROR:grpc._plugin_wrapping:AuthMetadataPluginCallback \"<google.auth.transport.grpc.AuthMetadataPlugin object at 0x789a26f95300>\" raised exception!\n",
            "Traceback (most recent call last):\n",
            "  File \"/usr/local/lib/python3.10/dist-packages/google/auth/compute_engine/credentials.py\", line 128, in refresh\n",
            "    self._retrieve_info(request)\n",
            "  File \"/usr/local/lib/python3.10/dist-packages/google/auth/compute_engine/credentials.py\", line 101, in _retrieve_info\n",
            "    info = _metadata.get_service_account_info(\n",
            "  File \"/usr/local/lib/python3.10/dist-packages/google/auth/compute_engine/_metadata.py\", line 323, in get_service_account_info\n",
            "    return get(request, path, params={\"recursive\": \"true\"})\n",
            "  File \"/usr/local/lib/python3.10/dist-packages/google/auth/compute_engine/_metadata.py\", line 248, in get\n",
            "    raise exceptions.TransportError(\n",
            "google.auth.exceptions.TransportError: (\"Failed to retrieve http://metadata.google.internal/computeMetadata/v1/instance/service-accounts/default/?recursive=true from the Google Compute Engine metadata service. Status: 404 Response:\\nb''\", <google.auth.transport.requests._Response object at 0x7899fc454b80>)\n",
            "\n",
            "The above exception was the direct cause of the following exception:\n",
            "\n",
            "Traceback (most recent call last):\n",
            "  File \"/usr/local/lib/python3.10/dist-packages/grpc/_plugin_wrapping.py\", line 105, in __call__\n",
            "    self._metadata_plugin(\n",
            "  File \"/usr/local/lib/python3.10/dist-packages/google/auth/transport/grpc.py\", line 95, in __call__\n",
            "    callback(self._get_authorization_headers(context), None)\n",
            "  File \"/usr/local/lib/python3.10/dist-packages/google/auth/transport/grpc.py\", line 81, in _get_authorization_headers\n",
            "    self._credentials.before_request(\n",
            "  File \"/usr/local/lib/python3.10/dist-packages/google/auth/credentials.py\", line 228, in before_request\n",
            "    self._blocking_refresh(request)\n",
            "  File \"/usr/local/lib/python3.10/dist-packages/google/auth/credentials.py\", line 191, in _blocking_refresh\n",
            "    self.refresh(request)\n",
            "  File \"/usr/local/lib/python3.10/dist-packages/google/auth/compute_engine/credentials.py\", line 134, in refresh\n",
            "    raise new_exc from caught_exc\n",
            "google.auth.exceptions.RefreshError: (\"Failed to retrieve http://metadata.google.internal/computeMetadata/v1/instance/service-accounts/default/?recursive=true from the Google Compute Engine metadata service. Status: 404 Response:\\nb''\", <google.auth.transport.requests._Response object at 0x7899fc454b80>)\n",
            "ERROR:grpc._plugin_wrapping:AuthMetadataPluginCallback \"<google.auth.transport.grpc.AuthMetadataPlugin object at 0x789a26f95300>\" raised exception!\n",
            "Traceback (most recent call last):\n",
            "  File \"/usr/local/lib/python3.10/dist-packages/google/auth/compute_engine/credentials.py\", line 128, in refresh\n",
            "    self._retrieve_info(request)\n",
            "  File \"/usr/local/lib/python3.10/dist-packages/google/auth/compute_engine/credentials.py\", line 101, in _retrieve_info\n",
            "    info = _metadata.get_service_account_info(\n",
            "  File \"/usr/local/lib/python3.10/dist-packages/google/auth/compute_engine/_metadata.py\", line 323, in get_service_account_info\n",
            "    return get(request, path, params={\"recursive\": \"true\"})\n",
            "  File \"/usr/local/lib/python3.10/dist-packages/google/auth/compute_engine/_metadata.py\", line 248, in get\n",
            "    raise exceptions.TransportError(\n",
            "google.auth.exceptions.TransportError: (\"Failed to retrieve http://metadata.google.internal/computeMetadata/v1/instance/service-accounts/default/?recursive=true from the Google Compute Engine metadata service. Status: 404 Response:\\nb''\", <google.auth.transport.requests._Response object at 0x7899fc456a10>)\n",
            "\n",
            "The above exception was the direct cause of the following exception:\n",
            "\n",
            "Traceback (most recent call last):\n",
            "  File \"/usr/local/lib/python3.10/dist-packages/grpc/_plugin_wrapping.py\", line 105, in __call__\n",
            "    self._metadata_plugin(\n",
            "  File \"/usr/local/lib/python3.10/dist-packages/google/auth/transport/grpc.py\", line 95, in __call__\n",
            "    callback(self._get_authorization_headers(context), None)\n",
            "  File \"/usr/local/lib/python3.10/dist-packages/google/auth/transport/grpc.py\", line 81, in _get_authorization_headers\n",
            "    self._credentials.before_request(\n",
            "  File \"/usr/local/lib/python3.10/dist-packages/google/auth/credentials.py\", line 228, in before_request\n",
            "    self._blocking_refresh(request)\n",
            "  File \"/usr/local/lib/python3.10/dist-packages/google/auth/credentials.py\", line 191, in _blocking_refresh\n",
            "    self.refresh(request)\n",
            "  File \"/usr/local/lib/python3.10/dist-packages/google/auth/compute_engine/credentials.py\", line 134, in refresh\n",
            "    raise new_exc from caught_exc\n",
            "google.auth.exceptions.RefreshError: (\"Failed to retrieve http://metadata.google.internal/computeMetadata/v1/instance/service-accounts/default/?recursive=true from the Google Compute Engine metadata service. Status: 404 Response:\\nb''\", <google.auth.transport.requests._Response object at 0x7899fc456a10>)\n",
            "ERROR:grpc._plugin_wrapping:AuthMetadataPluginCallback \"<google.auth.transport.grpc.AuthMetadataPlugin object at 0x789a26f95300>\" raised exception!\n",
            "Traceback (most recent call last):\n",
            "  File \"/usr/local/lib/python3.10/dist-packages/google/auth/compute_engine/credentials.py\", line 128, in refresh\n",
            "    self._retrieve_info(request)\n",
            "  File \"/usr/local/lib/python3.10/dist-packages/google/auth/compute_engine/credentials.py\", line 101, in _retrieve_info\n",
            "    info = _metadata.get_service_account_info(\n",
            "  File \"/usr/local/lib/python3.10/dist-packages/google/auth/compute_engine/_metadata.py\", line 323, in get_service_account_info\n",
            "    return get(request, path, params={\"recursive\": \"true\"})\n",
            "  File \"/usr/local/lib/python3.10/dist-packages/google/auth/compute_engine/_metadata.py\", line 248, in get\n",
            "    raise exceptions.TransportError(\n",
            "google.auth.exceptions.TransportError: (\"Failed to retrieve http://metadata.google.internal/computeMetadata/v1/instance/service-accounts/default/?recursive=true from the Google Compute Engine metadata service. Status: 404 Response:\\nb''\", <google.auth.transport.requests._Response object at 0x7899ff5fafe0>)\n",
            "\n",
            "The above exception was the direct cause of the following exception:\n",
            "\n",
            "Traceback (most recent call last):\n",
            "  File \"/usr/local/lib/python3.10/dist-packages/grpc/_plugin_wrapping.py\", line 105, in __call__\n",
            "    self._metadata_plugin(\n",
            "  File \"/usr/local/lib/python3.10/dist-packages/google/auth/transport/grpc.py\", line 95, in __call__\n",
            "    callback(self._get_authorization_headers(context), None)\n",
            "  File \"/usr/local/lib/python3.10/dist-packages/google/auth/transport/grpc.py\", line 81, in _get_authorization_headers\n",
            "    self._credentials.before_request(\n",
            "  File \"/usr/local/lib/python3.10/dist-packages/google/auth/credentials.py\", line 228, in before_request\n",
            "    self._blocking_refresh(request)\n",
            "  File \"/usr/local/lib/python3.10/dist-packages/google/auth/credentials.py\", line 191, in _blocking_refresh\n",
            "    self.refresh(request)\n",
            "  File \"/usr/local/lib/python3.10/dist-packages/google/auth/compute_engine/credentials.py\", line 134, in refresh\n",
            "    raise new_exc from caught_exc\n",
            "google.auth.exceptions.RefreshError: (\"Failed to retrieve http://metadata.google.internal/computeMetadata/v1/instance/service-accounts/default/?recursive=true from the Google Compute Engine metadata service. Status: 404 Response:\\nb''\", <google.auth.transport.requests._Response object at 0x7899ff5fafe0>)\n",
            "ERROR:grpc._plugin_wrapping:AuthMetadataPluginCallback \"<google.auth.transport.grpc.AuthMetadataPlugin object at 0x789a26f95300>\" raised exception!\n",
            "Traceback (most recent call last):\n",
            "  File \"/usr/local/lib/python3.10/dist-packages/google/auth/compute_engine/credentials.py\", line 128, in refresh\n",
            "    self._retrieve_info(request)\n",
            "  File \"/usr/local/lib/python3.10/dist-packages/google/auth/compute_engine/credentials.py\", line 101, in _retrieve_info\n",
            "    info = _metadata.get_service_account_info(\n",
            "  File \"/usr/local/lib/python3.10/dist-packages/google/auth/compute_engine/_metadata.py\", line 323, in get_service_account_info\n",
            "    return get(request, path, params={\"recursive\": \"true\"})\n",
            "  File \"/usr/local/lib/python3.10/dist-packages/google/auth/compute_engine/_metadata.py\", line 248, in get\n",
            "    raise exceptions.TransportError(\n",
            "google.auth.exceptions.TransportError: (\"Failed to retrieve http://metadata.google.internal/computeMetadata/v1/instance/service-accounts/default/?recursive=true from the Google Compute Engine metadata service. Status: 404 Response:\\nb''\", <google.auth.transport.requests._Response object at 0x7899ff5f94e0>)\n",
            "\n",
            "The above exception was the direct cause of the following exception:\n",
            "\n",
            "Traceback (most recent call last):\n",
            "  File \"/usr/local/lib/python3.10/dist-packages/grpc/_plugin_wrapping.py\", line 105, in __call__\n",
            "    self._metadata_plugin(\n",
            "  File \"/usr/local/lib/python3.10/dist-packages/google/auth/transport/grpc.py\", line 95, in __call__\n",
            "    callback(self._get_authorization_headers(context), None)\n",
            "  File \"/usr/local/lib/python3.10/dist-packages/google/auth/transport/grpc.py\", line 81, in _get_authorization_headers\n",
            "    self._credentials.before_request(\n",
            "  File \"/usr/local/lib/python3.10/dist-packages/google/auth/credentials.py\", line 228, in before_request\n",
            "    self._blocking_refresh(request)\n",
            "  File \"/usr/local/lib/python3.10/dist-packages/google/auth/credentials.py\", line 191, in _blocking_refresh\n",
            "    self.refresh(request)\n",
            "  File \"/usr/local/lib/python3.10/dist-packages/google/auth/compute_engine/credentials.py\", line 134, in refresh\n",
            "    raise new_exc from caught_exc\n",
            "google.auth.exceptions.RefreshError: (\"Failed to retrieve http://metadata.google.internal/computeMetadata/v1/instance/service-accounts/default/?recursive=true from the Google Compute Engine metadata service. Status: 404 Response:\\nb''\", <google.auth.transport.requests._Response object at 0x7899ff5f94e0>)\n",
            "ERROR:grpc._plugin_wrapping:AuthMetadataPluginCallback \"<google.auth.transport.grpc.AuthMetadataPlugin object at 0x789a26f95300>\" raised exception!\n",
            "Traceback (most recent call last):\n",
            "  File \"/usr/local/lib/python3.10/dist-packages/google/auth/compute_engine/credentials.py\", line 128, in refresh\n",
            "    self._retrieve_info(request)\n",
            "  File \"/usr/local/lib/python3.10/dist-packages/google/auth/compute_engine/credentials.py\", line 101, in _retrieve_info\n",
            "    info = _metadata.get_service_account_info(\n",
            "  File \"/usr/local/lib/python3.10/dist-packages/google/auth/compute_engine/_metadata.py\", line 323, in get_service_account_info\n",
            "    return get(request, path, params={\"recursive\": \"true\"})\n",
            "  File \"/usr/local/lib/python3.10/dist-packages/google/auth/compute_engine/_metadata.py\", line 248, in get\n",
            "    raise exceptions.TransportError(\n",
            "google.auth.exceptions.TransportError: (\"Failed to retrieve http://metadata.google.internal/computeMetadata/v1/instance/service-accounts/default/?recursive=true from the Google Compute Engine metadata service. Status: 404 Response:\\nb''\", <google.auth.transport.requests._Response object at 0x7899ff5fb310>)\n",
            "\n",
            "The above exception was the direct cause of the following exception:\n",
            "\n",
            "Traceback (most recent call last):\n",
            "  File \"/usr/local/lib/python3.10/dist-packages/grpc/_plugin_wrapping.py\", line 105, in __call__\n",
            "    self._metadata_plugin(\n",
            "  File \"/usr/local/lib/python3.10/dist-packages/google/auth/transport/grpc.py\", line 95, in __call__\n",
            "    callback(self._get_authorization_headers(context), None)\n",
            "  File \"/usr/local/lib/python3.10/dist-packages/google/auth/transport/grpc.py\", line 81, in _get_authorization_headers\n",
            "    self._credentials.before_request(\n",
            "  File \"/usr/local/lib/python3.10/dist-packages/google/auth/credentials.py\", line 228, in before_request\n",
            "    self._blocking_refresh(request)\n",
            "  File \"/usr/local/lib/python3.10/dist-packages/google/auth/credentials.py\", line 191, in _blocking_refresh\n",
            "    self.refresh(request)\n",
            "  File \"/usr/local/lib/python3.10/dist-packages/google/auth/compute_engine/credentials.py\", line 134, in refresh\n",
            "    raise new_exc from caught_exc\n",
            "google.auth.exceptions.RefreshError: (\"Failed to retrieve http://metadata.google.internal/computeMetadata/v1/instance/service-accounts/default/?recursive=true from the Google Compute Engine metadata service. Status: 404 Response:\\nb''\", <google.auth.transport.requests._Response object at 0x7899ff5fb310>)\n"
          ]
        },
        {
          "output_type": "error",
          "ename": "KeyboardInterrupt",
          "evalue": "",
          "traceback": [
            "\u001b[0;31m---------------------------------------------------------------------------\u001b[0m",
            "\u001b[0;31mKeyboardInterrupt\u001b[0m                         Traceback (most recent call last)",
            "\u001b[0;32m<ipython-input-26-fae9a7cdfeee>\u001b[0m in \u001b[0;36m<cell line: 1>\u001b[0;34m()\u001b[0m\n\u001b[0;32m----> 1\u001b[0;31m \u001b[0mclass_details\u001b[0m\u001b[0;34m(\u001b[0m\u001b[0;34m\"CS224W\"\u001b[0m\u001b[0;34m,\u001b[0m\u001b[0;34m\"Stanford University\"\u001b[0m\u001b[0;34m)\u001b[0m\u001b[0;34m\u001b[0m\u001b[0;34m\u001b[0m\u001b[0m\n\u001b[0m",
            "\u001b[0;32m<ipython-input-24-7bd1e1551e29>\u001b[0m in \u001b[0;36mclass_details\u001b[0;34m(class_name, school_name)\u001b[0m\n\u001b[1;32m      2\u001b[0m   \u001b[0mmodel\u001b[0m \u001b[0;34m=\u001b[0m \u001b[0mgenai\u001b[0m\u001b[0;34m.\u001b[0m\u001b[0mGenerativeModel\u001b[0m\u001b[0;34m(\u001b[0m\u001b[0;34m'gemini-1.0-pro'\u001b[0m\u001b[0;34m,\u001b[0m \u001b[0mtools\u001b[0m\u001b[0;34m=\u001b[0m\u001b[0;34m[\u001b[0m\u001b[0marticle_summarizer\u001b[0m\u001b[0;34m,\u001b[0m\u001b[0mgoogle_search\u001b[0m\u001b[0;34m]\u001b[0m\u001b[0;34m)\u001b[0m\u001b[0;34m\u001b[0m\u001b[0;34m\u001b[0m\u001b[0m\n\u001b[1;32m      3\u001b[0m   \u001b[0mchat\u001b[0m \u001b[0;34m=\u001b[0m \u001b[0mmodel\u001b[0m\u001b[0;34m.\u001b[0m\u001b[0mstart_chat\u001b[0m\u001b[0;34m(\u001b[0m\u001b[0;34m)\u001b[0m\u001b[0;34m\u001b[0m\u001b[0;34m\u001b[0m\u001b[0m\n\u001b[0;32m----> 4\u001b[0;31m   response = chat.send_message(\n\u001b[0m\u001b[1;32m      5\u001b[0m     \u001b[0;34mf\"Find more information about the {school_name} {class_name} by first searching for articles and then reading from the url. We require a thorough understanding of the course contents and objectives\"\u001b[0m\u001b[0;34m,\u001b[0m\u001b[0;34m\u001b[0m\u001b[0;34m\u001b[0m\u001b[0m\n\u001b[1;32m      6\u001b[0m   )\n",
            "\u001b[0;32m/usr/local/lib/python3.10/dist-packages/google/generativeai/generative_models.py\u001b[0m in \u001b[0;36msend_message\u001b[0;34m(self, content, generation_config, safety_settings, stream, tools, tool_config)\u001b[0m\n\u001b[1;32m    472\u001b[0m             \u001b[0;32mraise\u001b[0m \u001b[0mValueError\u001b[0m\u001b[0;34m(\u001b[0m\u001b[0;34m\"Can't chat with `candidate_count > 1`\"\u001b[0m\u001b[0;34m)\u001b[0m\u001b[0;34m\u001b[0m\u001b[0;34m\u001b[0m\u001b[0m\n\u001b[1;32m    473\u001b[0m \u001b[0;34m\u001b[0m\u001b[0m\n\u001b[0;32m--> 474\u001b[0;31m         response = self.model.generate_content(\n\u001b[0m\u001b[1;32m    475\u001b[0m             \u001b[0mcontents\u001b[0m\u001b[0;34m=\u001b[0m\u001b[0mhistory\u001b[0m\u001b[0;34m,\u001b[0m\u001b[0;34m\u001b[0m\u001b[0;34m\u001b[0m\u001b[0m\n\u001b[1;32m    476\u001b[0m             \u001b[0mgeneration_config\u001b[0m\u001b[0;34m=\u001b[0m\u001b[0mgeneration_config\u001b[0m\u001b[0;34m,\u001b[0m\u001b[0;34m\u001b[0m\u001b[0;34m\u001b[0m\u001b[0m\n",
            "\u001b[0;32m/usr/local/lib/python3.10/dist-packages/google/generativeai/generative_models.py\u001b[0m in \u001b[0;36mgenerate_content\u001b[0;34m(self, contents, generation_config, safety_settings, stream, tools, tool_config, request_options)\u001b[0m\n\u001b[1;32m    260\u001b[0m                 \u001b[0;32mreturn\u001b[0m \u001b[0mgeneration_types\u001b[0m\u001b[0;34m.\u001b[0m\u001b[0mGenerateContentResponse\u001b[0m\u001b[0;34m.\u001b[0m\u001b[0mfrom_iterator\u001b[0m\u001b[0;34m(\u001b[0m\u001b[0miterator\u001b[0m\u001b[0;34m)\u001b[0m\u001b[0;34m\u001b[0m\u001b[0;34m\u001b[0m\u001b[0m\n\u001b[1;32m    261\u001b[0m             \u001b[0;32melse\u001b[0m\u001b[0;34m:\u001b[0m\u001b[0;34m\u001b[0m\u001b[0;34m\u001b[0m\u001b[0m\n\u001b[0;32m--> 262\u001b[0;31m                 response = self._client.generate_content(\n\u001b[0m\u001b[1;32m    263\u001b[0m                     \u001b[0mrequest\u001b[0m\u001b[0;34m,\u001b[0m\u001b[0;34m\u001b[0m\u001b[0;34m\u001b[0m\u001b[0m\n\u001b[1;32m    264\u001b[0m                     \u001b[0;34m**\u001b[0m\u001b[0mrequest_options\u001b[0m\u001b[0;34m,\u001b[0m\u001b[0;34m\u001b[0m\u001b[0;34m\u001b[0m\u001b[0m\n",
            "\u001b[0;32m/usr/local/lib/python3.10/dist-packages/google/ai/generativelanguage_v1beta/services/generative_service/client.py\u001b[0m in \u001b[0;36mgenerate_content\u001b[0;34m(self, request, model, contents, retry, timeout, metadata)\u001b[0m\n\u001b[1;32m    789\u001b[0m \u001b[0;34m\u001b[0m\u001b[0m\n\u001b[1;32m    790\u001b[0m         \u001b[0;31m# Send the request.\u001b[0m\u001b[0;34m\u001b[0m\u001b[0;34m\u001b[0m\u001b[0m\n\u001b[0;32m--> 791\u001b[0;31m         response = rpc(\n\u001b[0m\u001b[1;32m    792\u001b[0m             \u001b[0mrequest\u001b[0m\u001b[0;34m,\u001b[0m\u001b[0;34m\u001b[0m\u001b[0;34m\u001b[0m\u001b[0m\n\u001b[1;32m    793\u001b[0m             \u001b[0mretry\u001b[0m\u001b[0;34m=\u001b[0m\u001b[0mretry\u001b[0m\u001b[0;34m,\u001b[0m\u001b[0;34m\u001b[0m\u001b[0;34m\u001b[0m\u001b[0m\n",
            "\u001b[0;32m/usr/local/lib/python3.10/dist-packages/google/api_core/gapic_v1/method.py\u001b[0m in \u001b[0;36m__call__\u001b[0;34m(self, timeout, retry, *args, **kwargs)\u001b[0m\n\u001b[1;32m    111\u001b[0m             \u001b[0mkwargs\u001b[0m\u001b[0;34m[\u001b[0m\u001b[0;34m\"metadata\"\u001b[0m\u001b[0;34m]\u001b[0m \u001b[0;34m=\u001b[0m \u001b[0mmetadata\u001b[0m\u001b[0;34m\u001b[0m\u001b[0;34m\u001b[0m\u001b[0m\n\u001b[1;32m    112\u001b[0m \u001b[0;34m\u001b[0m\u001b[0m\n\u001b[0;32m--> 113\u001b[0;31m         \u001b[0;32mreturn\u001b[0m \u001b[0mwrapped_func\u001b[0m\u001b[0;34m(\u001b[0m\u001b[0;34m*\u001b[0m\u001b[0margs\u001b[0m\u001b[0;34m,\u001b[0m \u001b[0;34m**\u001b[0m\u001b[0mkwargs\u001b[0m\u001b[0;34m)\u001b[0m\u001b[0;34m\u001b[0m\u001b[0;34m\u001b[0m\u001b[0m\n\u001b[0m\u001b[1;32m    114\u001b[0m \u001b[0;34m\u001b[0m\u001b[0m\n\u001b[1;32m    115\u001b[0m \u001b[0;34m\u001b[0m\u001b[0m\n",
            "\u001b[0;32m/usr/local/lib/python3.10/dist-packages/google/api_core/retry.py\u001b[0m in \u001b[0;36mretry_wrapped_func\u001b[0;34m(*args, **kwargs)\u001b[0m\n\u001b[1;32m    347\u001b[0m                 \u001b[0mself\u001b[0m\u001b[0;34m.\u001b[0m\u001b[0m_initial\u001b[0m\u001b[0;34m,\u001b[0m \u001b[0mself\u001b[0m\u001b[0;34m.\u001b[0m\u001b[0m_maximum\u001b[0m\u001b[0;34m,\u001b[0m \u001b[0mmultiplier\u001b[0m\u001b[0;34m=\u001b[0m\u001b[0mself\u001b[0m\u001b[0;34m.\u001b[0m\u001b[0m_multiplier\u001b[0m\u001b[0;34m\u001b[0m\u001b[0;34m\u001b[0m\u001b[0m\n\u001b[1;32m    348\u001b[0m             )\n\u001b[0;32m--> 349\u001b[0;31m             return retry_target(\n\u001b[0m\u001b[1;32m    350\u001b[0m                 \u001b[0mtarget\u001b[0m\u001b[0;34m,\u001b[0m\u001b[0;34m\u001b[0m\u001b[0;34m\u001b[0m\u001b[0m\n\u001b[1;32m    351\u001b[0m                 \u001b[0mself\u001b[0m\u001b[0;34m.\u001b[0m\u001b[0m_predicate\u001b[0m\u001b[0;34m,\u001b[0m\u001b[0;34m\u001b[0m\u001b[0;34m\u001b[0m\u001b[0m\n",
            "\u001b[0;32m/usr/local/lib/python3.10/dist-packages/google/api_core/retry.py\u001b[0m in \u001b[0;36mretry_target\u001b[0;34m(target, predicate, sleep_generator, timeout, on_error, **kwargs)\u001b[0m\n\u001b[1;32m    215\u001b[0m             \u001b[0;34m\"Retrying due to {}, sleeping {:.1f}s ...\"\u001b[0m\u001b[0;34m.\u001b[0m\u001b[0mformat\u001b[0m\u001b[0;34m(\u001b[0m\u001b[0mlast_exc\u001b[0m\u001b[0;34m,\u001b[0m \u001b[0msleep\u001b[0m\u001b[0;34m)\u001b[0m\u001b[0;34m\u001b[0m\u001b[0;34m\u001b[0m\u001b[0m\n\u001b[1;32m    216\u001b[0m         )\n\u001b[0;32m--> 217\u001b[0;31m         \u001b[0mtime\u001b[0m\u001b[0;34m.\u001b[0m\u001b[0msleep\u001b[0m\u001b[0;34m(\u001b[0m\u001b[0msleep\u001b[0m\u001b[0;34m)\u001b[0m\u001b[0;34m\u001b[0m\u001b[0;34m\u001b[0m\u001b[0m\n\u001b[0m\u001b[1;32m    218\u001b[0m \u001b[0;34m\u001b[0m\u001b[0m\n\u001b[1;32m    219\u001b[0m     \u001b[0;32mraise\u001b[0m \u001b[0mValueError\u001b[0m\u001b[0;34m(\u001b[0m\u001b[0;34m\"Sleep generator stopped yielding sleep values.\"\u001b[0m\u001b[0;34m)\u001b[0m\u001b[0;34m\u001b[0m\u001b[0;34m\u001b[0m\u001b[0m\n",
            "\u001b[0;31mKeyboardInterrupt\u001b[0m: "
          ]
        }
      ]
    },
    {
      "cell_type": "code",
      "source": [],
      "metadata": {
        "id": "G0SC8tGfRQg6"
      },
      "execution_count": null,
      "outputs": []
    }
  ]
}