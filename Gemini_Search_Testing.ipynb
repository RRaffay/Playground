{
  "nbformat": 4,
  "nbformat_minor": 0,
  "metadata": {
    "colab": {
      "provenance": [],
      "collapsed_sections": [
        "ahJ7YgC4vHZt",
        "_-tH9QuAvIlB",
        "nWoZBGGnvv80",
        "0I8iKof_ww3x"
      ],
      "toc_visible": true,
      "authorship_tag": "ABX9TyN/QiLxkYs54CKyDd8ilpXr",
      "include_colab_link": true
    },
    "kernelspec": {
      "name": "python3",
      "display_name": "Python 3"
    },
    "language_info": {
      "name": "python"
    }
  },
  "cells": [
    {
      "cell_type": "markdown",
      "metadata": {
        "id": "view-in-github",
        "colab_type": "text"
      },
      "source": [
        "<a href=\"https://colab.research.google.com/github/RRaffay/Playground/blob/main/Gemini_Search_Testing.ipynb\" target=\"_parent\"><img src=\"https://colab.research.google.com/assets/colab-badge.svg\" alt=\"Open In Colab\"/></a>"
      ]
    },
    {
      "cell_type": "markdown",
      "source": [
        "# Gemini Tutor Testing"
      ],
      "metadata": {
        "id": "f8z1qxtpvAGD"
      }
    },
    {
      "cell_type": "markdown",
      "source": [
        "# Base Google Search"
      ],
      "metadata": {
        "id": "9cYCh5f_Ib35"
      }
    },
    {
      "cell_type": "markdown",
      "source": [
        "## Imports and Config"
      ],
      "metadata": {
        "id": "ahJ7YgC4vHZt"
      }
    },
    {
      "cell_type": "code",
      "execution_count": null,
      "metadata": {
        "id": "LxBnfjpVu8JM"
      },
      "outputs": [],
      "source": [
        "!pip install -U -q google-generativeai"
      ]
    },
    {
      "cell_type": "code",
      "source": [
        "!pip install requests"
      ],
      "metadata": {
        "id": "Fri2RVMk52wd"
      },
      "execution_count": null,
      "outputs": []
    },
    {
      "cell_type": "code",
      "source": [
        "import pathlib\n",
        "import textwrap\n",
        "import time\n",
        "import json\n",
        "import requests\n",
        "\n",
        "import google.generativeai as genai\n",
        "\n",
        "\n",
        "from IPython import display\n",
        "from IPython.display import Markdown"
      ],
      "metadata": {
        "id": "zf7PI-YsvJb7"
      },
      "execution_count": null,
      "outputs": []
    },
    {
      "cell_type": "code",
      "source": [
        "try:\n",
        "    # Used to securely store your API key\n",
        "    from google.colab import userdata\n",
        "\n",
        "    # Or use `os.getenv('API_KEY')` to fetch an environment variable.\n",
        "    GOOGLE_API_KEY=userdata.get('GOOGLE_API_KEY')\n",
        "except ImportError:\n",
        "    import os\n",
        "    GOOGLE_API_KEY = os.environ['GOOGLE_API_KEY']\n",
        "\n",
        "genai.configure(api_key=GOOGLE_API_KEY)"
      ],
      "metadata": {
        "id": "qw_iurKvvNww"
      },
      "execution_count": null,
      "outputs": []
    },
    {
      "cell_type": "code",
      "source": [
        "import google.ai.generativelanguage as glm\n",
        "serper_api_key = userdata.get('SERP_API_KEY')"
      ],
      "metadata": {
        "id": "MGGOEuqY57cu"
      },
      "execution_count": null,
      "outputs": []
    },
    {
      "cell_type": "markdown",
      "source": [
        "## Basic Example"
      ],
      "metadata": {
        "id": "_-tH9QuAvIlB"
      }
    },
    {
      "cell_type": "code",
      "source": [
        "def multiply(a:float, b:float):\n",
        "    \"\"\"returns a * b.\"\"\"\n",
        "    return a*b\n",
        "\n",
        "model = genai.GenerativeModel(model_name='gemini-1.0-pro',\n",
        "                              tools=[multiply])\n",
        "\n",
        "model"
      ],
      "metadata": {
        "colab": {
          "base_uri": "https://localhost:8080/"
        },
        "id": "PwCAKGKcvWXz",
        "outputId": "7d450426-0dc4-48ff-b067-69f70a586065"
      },
      "execution_count": null,
      "outputs": [
        {
          "output_type": "execute_result",
          "data": {
            "text/plain": [
              "genai.GenerativeModel(\n",
              "    model_name='models/gemini-1.0-pro',\n",
              "    generation_config={},\n",
              "    safety_settings={},\n",
              "    tools=<google.generativeai.types.content_types.FunctionLibrary object at 0x7f35d2359210>,\n",
              "    system_instruction=None,\n",
              ")"
            ]
          },
          "metadata": {},
          "execution_count": 4
        }
      ]
    },
    {
      "cell_type": "code",
      "source": [
        "chat = model.start_chat(enable_automatic_function_calling=True)"
      ],
      "metadata": {
        "id": "OWeLpgABvbMq"
      },
      "execution_count": null,
      "outputs": []
    },
    {
      "cell_type": "code",
      "source": [
        "response = chat.send_message('I have 57 cats, each owns 44 mittens, how many mittens is that in total?')\n",
        "response.text"
      ],
      "metadata": {
        "colab": {
          "base_uri": "https://localhost:8080/",
          "height": 35
        },
        "id": "N4E22y9ivcpF",
        "outputId": "9d61dff2-b793-4a0c-936e-7b0ad31a7435"
      },
      "execution_count": null,
      "outputs": [
        {
          "output_type": "execute_result",
          "data": {
            "text/plain": [
              "'That makes 2508 mittens in total.'"
            ],
            "application/vnd.google.colaboratory.intrinsic+json": {
              "type": "string"
            }
          },
          "metadata": {},
          "execution_count": 6
        }
      ]
    },
    {
      "cell_type": "code",
      "source": [
        "for content in chat.history:\n",
        "    part = content.parts[0]\n",
        "    print(content.role, \"->\", type(part).to_dict(part))\n",
        "    print('-'*80)"
      ],
      "metadata": {
        "colab": {
          "base_uri": "https://localhost:8080/"
        },
        "id": "Xj8eV7lpvghA",
        "outputId": "b74139eb-6050-4f52-bf39-7e8add50d11e"
      },
      "execution_count": null,
      "outputs": [
        {
          "output_type": "stream",
          "name": "stdout",
          "text": [
            "user -> {'text': 'I have 57 cats, each owns 44 mittens, how many mittens is that in total?'}\n",
            "--------------------------------------------------------------------------------\n",
            "model -> {'function_call': {'name': 'multiply', 'args': {'b': 44.0, 'a': 57.0}}}\n",
            "--------------------------------------------------------------------------------\n",
            "user -> {'function_response': {'name': 'multiply', 'response': {'result': 2508.0}}}\n",
            "--------------------------------------------------------------------------------\n",
            "model -> {'text': 'That makes 2508 mittens in total.'}\n",
            "--------------------------------------------------------------------------------\n"
          ]
        }
      ]
    },
    {
      "cell_type": "markdown",
      "source": [
        "## Trying Automated Search with Serper"
      ],
      "metadata": {
        "id": "nWoZBGGnvv80"
      }
    },
    {
      "cell_type": "code",
      "source": [
        "serper_api_key = userdata.get('SERP_API_KEY')"
      ],
      "metadata": {
        "id": "6uPp9M6Ev6o4"
      },
      "execution_count": null,
      "outputs": []
    },
    {
      "cell_type": "code",
      "source": [
        "def google_search(search_keyword: str):\n",
        "    \"\"\"Returns the google results for the given search word\"\"\"\n",
        "    url = \"https://google.serper.dev/search\"\n",
        "\n",
        "    payload = json.dumps({\n",
        "        \"q\": search_keyword\n",
        "    })\n",
        "\n",
        "    headers = {\n",
        "        'X-API-KEY': serper_api_key,\n",
        "        'Content-Type': 'application/json'\n",
        "    }\n",
        "\n",
        "    response = requests.request(\"POST\", url, headers=headers, data=payload)\n",
        "    print(f\"Google Search for: {search_keyword}\")\n",
        "    return response.text\n"
      ],
      "metadata": {
        "id": "L9IOP7nnvig2"
      },
      "execution_count": null,
      "outputs": []
    },
    {
      "cell_type": "code",
      "source": [
        "model = genai.GenerativeModel(model_name='gemini-1.0-pro',\n",
        "                              tools=[google_search])"
      ],
      "metadata": {
        "id": "GG7DpMhMwScZ"
      },
      "execution_count": null,
      "outputs": []
    },
    {
      "cell_type": "code",
      "source": [
        "chat = model.start_chat(enable_automatic_function_calling=True)"
      ],
      "metadata": {
        "id": "fMakqb7uwWZI"
      },
      "execution_count": null,
      "outputs": []
    },
    {
      "cell_type": "code",
      "source": [
        "response = chat.send_message('What is the CS330 Course at Duke')\n",
        "response.text"
      ],
      "metadata": {
        "id": "SDQRVOJIwesR"
      },
      "execution_count": null,
      "outputs": []
    },
    {
      "cell_type": "markdown",
      "source": [
        "## Trying Manual Search with Serper"
      ],
      "metadata": {
        "id": "0I8iKof_ww3x"
      }
    },
    {
      "cell_type": "code",
      "source": [
        "import google.ai.generativelanguage as glm\n",
        "serper_api_key = userdata.get('SERP_API_KEY')"
      ],
      "metadata": {
        "id": "AZbPRDldzll8"
      },
      "execution_count": null,
      "outputs": []
    },
    {
      "cell_type": "code",
      "source": [
        "def google_search_runner(search_keyword: str):\n",
        "    \"\"\"Returns the google results for the given search word\"\"\"\n",
        "    url = \"https://google.serper.dev/search\"\n",
        "\n",
        "    payload = json.dumps({\n",
        "        \"q\": search_keyword\n",
        "    })\n",
        "\n",
        "    headers = {\n",
        "        'X-API-KEY': serper_api_key,\n",
        "        'Content-Type': 'application/json'\n",
        "    }\n",
        "\n",
        "    response = requests.request(\"POST\", url, headers=headers, data=payload)\n",
        "    print(f\"Google Search for: {search_keyword}\")\n",
        "    return response.text"
      ],
      "metadata": {
        "id": "ykfHwwqEzPCg"
      },
      "execution_count": null,
      "outputs": []
    },
    {
      "cell_type": "code",
      "source": [
        "google_search = {'function_declarations': [\n",
        "    {\n",
        "    \"name\": \"google_search\",\n",
        "    \"description\": \"Google search to return results of search keywords\",\n",
        "    \"parameters\": {\n",
        "        \"type_\": \"OBJECT\",\n",
        "        \"properties\": {\n",
        "            \"search_keyword\": {\n",
        "                \"type_\": \"STRING\",\n",
        "                \"description\": \"A great search keyword that most likely to return resuls for the information you are looking for\"\n",
        "            }\n",
        "        },\n",
        "        \"required\": [\n",
        "            \"search_keyword\"\n",
        "        ]\n",
        "    }\n",
        "}\n",
        "]}"
      ],
      "metadata": {
        "id": "eUwChABHw34u"
      },
      "execution_count": null,
      "outputs": []
    },
    {
      "cell_type": "code",
      "source": [
        "glm.Tool(google_search)"
      ],
      "metadata": {
        "colab": {
          "base_uri": "https://localhost:8080/"
        },
        "id": "_NsuCQL4w6Vz",
        "outputId": "c35730d0-bfd4-4fd4-a91b-a02911f984a4"
      },
      "execution_count": null,
      "outputs": [
        {
          "output_type": "execute_result",
          "data": {
            "text/plain": [
              "function_declarations {\n",
              "  name: \"google_search\"\n",
              "  description: \"Google search to return results of search keywords\"\n",
              "  parameters {\n",
              "    type_: OBJECT\n",
              "    properties {\n",
              "      key: \"search_keyword\"\n",
              "      value {\n",
              "        type_: STRING\n",
              "        description: \"A great search keyword that most likely to return resuls for the information you are looking for\"\n",
              "      }\n",
              "    }\n",
              "    required: \"search_keyword\"\n",
              "  }\n",
              "}"
            ]
          },
          "metadata": {},
          "execution_count": 75
        }
      ]
    },
    {
      "cell_type": "code",
      "source": [
        "model = genai.GenerativeModel('gemini-pro', tools=google_search)\n",
        "chat = model.start_chat()\n",
        "\n",
        "response = chat.send_message(\n",
        "    f\"What is the class CS330 at Duke?\",\n",
        ")"
      ],
      "metadata": {
        "id": "Vn393ZWOxkLb"
      },
      "execution_count": null,
      "outputs": []
    },
    {
      "cell_type": "code",
      "source": [
        "response.candidates"
      ],
      "metadata": {
        "colab": {
          "base_uri": "https://localhost:8080/"
        },
        "id": "H5qeGqm3yKbE",
        "outputId": "b71c346c-eb12-4661-846e-8f48e0af95f4"
      },
      "execution_count": null,
      "outputs": [
        {
          "output_type": "execute_result",
          "data": {
            "text/plain": [
              "[content {\n",
              "  parts {\n",
              "    function_call {\n",
              "      name: \"google_search\"\n",
              "      args {\n",
              "        fields {\n",
              "          key: \"search_keyword\"\n",
              "          value {\n",
              "            string_value: \"What is the class CS330 at Duke?\"\n",
              "          }\n",
              "        }\n",
              "      }\n",
              "    }\n",
              "  }\n",
              "  role: \"model\"\n",
              "}\n",
              "finish_reason: STOP\n",
              "index: 0\n",
              "safety_ratings {\n",
              "  category: HARM_CATEGORY_SEXUALLY_EXPLICIT\n",
              "  probability: NEGLIGIBLE\n",
              "}\n",
              "safety_ratings {\n",
              "  category: HARM_CATEGORY_HARASSMENT\n",
              "  probability: NEGLIGIBLE\n",
              "}\n",
              "safety_ratings {\n",
              "  category: HARM_CATEGORY_DANGEROUS_CONTENT\n",
              "  probability: NEGLIGIBLE\n",
              "}\n",
              "safety_ratings {\n",
              "  category: HARM_CATEGORY_HATE_SPEECH\n",
              "  probability: NEGLIGIBLE\n",
              "}\n",
              "]"
            ]
          },
          "metadata": {},
          "execution_count": 88
        }
      ]
    },
    {
      "cell_type": "code",
      "source": [
        "fc = response.candidates[0].content.parts[0].function_call\n",
        "assert fc.name == 'google_search'\n",
        "\n",
        "key_word = fc.args['search_keyword']"
      ],
      "metadata": {
        "id": "6lP0U70XyNLG"
      },
      "execution_count": null,
      "outputs": []
    },
    {
      "cell_type": "code",
      "source": [
        "key_word"
      ],
      "metadata": {
        "colab": {
          "base_uri": "https://localhost:8080/",
          "height": 35
        },
        "id": "WEl9QCqAzZt1",
        "outputId": "ad15a2f2-cd25-44c3-d337-806a0aa832db"
      },
      "execution_count": null,
      "outputs": [
        {
          "output_type": "execute_result",
          "data": {
            "text/plain": [
              "'What is the class CS330 at Duke?'"
            ],
            "application/vnd.google.colaboratory.intrinsic+json": {
              "type": "string"
            }
          },
          "metadata": {},
          "execution_count": 79
        }
      ]
    },
    {
      "cell_type": "code",
      "source": [
        "result = google_search_runner(key_word)\n",
        "result"
      ],
      "metadata": {
        "colab": {
          "base_uri": "https://localhost:8080/",
          "height": 122
        },
        "id": "w4nYXgZWzGYk",
        "outputId": "61f5b8a6-6fad-4a4b-fbb4-37111aa42054"
      },
      "execution_count": null,
      "outputs": [
        {
          "output_type": "stream",
          "name": "stdout",
          "text": [
            "Google Search for: What is the class CS330 at Duke?\n"
          ]
        },
        {
          "output_type": "execute_result",
          "data": {
            "text/plain": [
              "'{\"searchParameters\":{\"q\":\"What is the class CS330 at Duke?\",\"type\":\"search\",\"engine\":\"google\"},\"searchInformation\":{\"didYouMean\":\"What is the class CS 330 at Duke?\"},\"answerBox\":{\"snippet\":\"Design and analysis of efficient algorithms at an undergraduate level. Topics include greedy algorithms, divide and conquer, dynamic programming, graph algorithms, linear programming, randomized algorithms, and NP-completeness.\",\"snippetHighlighted\":[\"Design and analysis of efficient algorithms at an undergraduate level\"],\"title\":\"Computer Science 330 Spring 2024 - Sites@Duke Express\",\"link\":\"https://sites.duke.edu/spring24compsci330/\"},\"organic\":[{\"title\":\"CS 330 Spring 2023 | Intro to Design & Analysis of Algorithms\",\"link\":\"https://courses.cs.duke.edu/spring23/compsci330/\",\"snippet\":\"Course Synopsis · Design techniques: Divide-and-conquer, greedy algorithms, dynamic programming, local search, and randomization · Data structures: Balanced ...\",\"position\":1},{\"title\":\"Duke COMPSCI 330 Fall 2022 - Google Sites\",\"link\":\"https://sites.google.com/view/duke-compsci-330-fall-2022\",\"snippet\":\"Duke University · COMPSCI 330 · Introduction to the Design and Analysis of Algorithms · Fall 2022 · Overview · Course Staff · Instructor · Teaching Associate · Graduate ...\",\"position\":2},{\"title\":\"COMPSCI 330 - Introduction to the Design and Analysis of Algorithms\",\"link\":\"https://www.coursicle.com/duke/courses/COMPSCI/330/\",\"snippet\":\"COMPSCI 330 at Duke University (Duke) in Durham, North Carolina. Design and analysis of efficient algorithms including sorting, searching, ...\",\"position\":3},{\"title\":\"Complexity-classes - CS330 Duke University - COMPSCI 330\",\"link\":\"https://www.studocu.com/en-us/document/duke-university/design-and-analysis-of-algorithms/complexity-classes-cs330-duke-university/3841989\",\"snippet\":\"University: Duke University · 1 Overview. In this lecture, we introduce complexity classes and polynomial-time reductions.1 · 2 Easy versus hard problems. In ...\",\"position\":4},{\"title\":\"CompSci Course Reviews & Major Insights - duke - Reddit\",\"link\":\"https://www.reddit.com/r/duke/comments/lv9s7u/compsci_course_reviews_major_insights/\",\"snippet\":\"I\\'ve heard CS230 is one of the more difficult courses, but does anyone here have insight on the other courses? CS330 (Introduction to the Design ...\",\"date\":\"Mar 1, 2021\",\"sitelinks\":[{\"title\":\"Help needed with CS 330 - duke - Reddit\",\"link\":\"https://www.reddit.com/r/duke/comments/1ayicf7/help_needed_with_cs_330/\"},{\"title\":\"CS 330 summer class? : r/duke - Reddit\",\"link\":\"https://www.reddit.com/r/duke/comments/g2iyf9/cs_330_summer_class/\"},{\"title\":\"Course CSE 330 Design and Analysis of Algorithm - Solution 2 : r/duke\",\"link\":\"https://www.reddit.com/r/duke/comments/g469t3/course_cse_330_design_and_analysis_of_algorithm/\"},{\"title\":\"Is this schedule reasonable? : r/duke - Reddit\",\"link\":\"https://www.reddit.com/r/duke/comments/jdx6m3/is_this_schedule_reasonable/\"}],\"position\":5},{\"title\":\"Design and Analysis of Algorithms (COMPSCI 330) - Studocu\",\"link\":\"https://www.studocu.com/en-us/course/duke-university/design-and-analysis-of-algorithms/1701830\",\"snippet\":\"Studying COMPSCI 330 Design and Analysis of Algorithms at Duke University? On Studocu you will find 36 assignments, lecture notes, summaries and much more ...\",\"position\":6},{\"title\":\"Duke COMPSCI 330 Fall 2020 - Google Sites\",\"link\":\"https://sites.google.com/view/duke-compci-330-fall-2020\",\"snippet\":\"Duke University · COMPSCI 330 · Introduction to the Design and Analysis of Algorithms · Fall 2020 · Overview · Course Staff · Syllabus ...\",\"attributes\":{\"Missing\":\"class | Show results with:class\"},\"position\":7},{\"title\":\"COMPSCI 330 : Algorithm - Duke - Course Hero\",\"link\":\"https://www.coursehero.com/sitemap/schools/69-Duke-University/courses/5615326-COMPSCI330\",\"snippet\":\"Access study documents, get answers to your study questions, and connect with real tutors for COMPSCI 330 : Algorithm at Duke University.\",\"position\":8},{\"title\":\"SOLUTION: Complexity classes cs330 duke university - Studypool\",\"link\":\"https://www.studypool.com/documents/33372853/complexity-classes-cs330-duke-university\",\"snippet\":\"In this lecture, we introduce complexity classes and polynomial-time reductions.1In this section, we will begin by defining a suite of hard problems we have ...\",\"position\":9}],\"peopleAlsoAsk\":[{\"question\":\"What is Duke ranked for CS?\",\"snippet\":\"Duke University\\'s Computer Science graduate program is ranked #20 in the country, according to US News & World Report. The department is also committed to working seamlessly with other disciplines in the arts and sciences to positively impact every aspect of society. We celebrated our 50th year in 2023.\",\"title\":\"About Us | Department of Computer Science\",\"link\":\"https://cs.duke.edu/about\"},{\"question\":\"Is Duke Computer Science in Trinity or Pratt?\",\"snippet\":\"Duke\\'s Innovative Approach We find the hybrid discipline of Electrical & Computer Engineering (ECE) produces students better prepared to integrate modern computing systems into devices and products capable of bettering the world. (Computer Science at Duke is a department in Trinity College of Arts & Sciences.\",\"title\":\"What\\'s the Difference Between Computer Science and Electrical ...\",\"link\":\"https://ece.duke.edu/undergrad/applicants/computer-science-vs-electrical-and-computer-engineering\"},{\"question\":\"What is the median starting salary at Duke Computer Science?\",\"snippet\":\"The median early career salary of compsci students who receive their bachelor\\'s degree from Duke is $99,600 per year. That is 50% higher than the national average of $66,348.\",\"title\":\"Duke Computer Science BS Average Salary - College Factual\",\"link\":\"https://www.collegefactual.com/colleges/duke-university/academic-life/academic-majors/computer-information-sciences/computer-science/bachelors/chart-average-salary.html\"},{\"question\":\"Can you minor in Computer Science at Duke?\",\"snippet\":\"Degree Options We offer a Bachelor of Science, Bachelor of Arts, and an Interdepartmental Major (IDM). In addition, you may wish to purse your Minor in Computer Science or Minor in Computational Biology and Bioinformatics.\",\"title\":\"Undergraduate | Department of Computer Science\",\"link\":\"https://cs.duke.edu/undergraduate\"}],\"relatedSearches\":[{\"query\":\"What is the class cs330 at duke pdf\"},{\"query\":\"Duke cs 330 fall 2023\"},{\"query\":\"Duke CS 330 Reddit\"},{\"query\":\"Cs 330 Duke\"},{\"query\":\"Cs 330 duke spring 2024\"},{\"query\":\"Duke cs courses\"},{\"query\":\"Duke Course Catalog\"},{\"query\":\"Duke cs substitutions\"}]}'"
            ],
            "application/vnd.google.colaboratory.intrinsic+json": {
              "type": "string"
            }
          },
          "metadata": {},
          "execution_count": 80
        }
      ]
    },
    {
      "cell_type": "code",
      "source": [
        "response = chat.send_message(\n",
        "    glm.Content(\n",
        "    parts=[glm.Part(\n",
        "        function_response = glm.FunctionResponse(\n",
        "          name='google_search',\n",
        "          response={'result': result}))]))"
      ],
      "metadata": {
        "id": "9Me5nLIFyWf4"
      },
      "execution_count": null,
      "outputs": []
    },
    {
      "cell_type": "code",
      "source": [
        "response.text"
      ],
      "metadata": {
        "colab": {
          "base_uri": "https://localhost:8080/",
          "height": 52
        },
        "id": "EasGyiRcyrze",
        "outputId": "b74eb795-e3df-446f-d0bb-1922b259e4c8"
      },
      "execution_count": null,
      "outputs": [
        {
          "output_type": "execute_result",
          "data": {
            "text/plain": [
              "'CS330 at Duke is an undergraduate-level course that focuses on the design and analysis of efficient algorithms. The class covers a wide range of topics, including greedy algorithms, divide-and-conquer, dynamic programming, graph algorithms, linear programming, randomized algorithms, and NP-completeness. The course is typically offered in the fall and spring semesters.'"
            ],
            "application/vnd.google.colaboratory.intrinsic+json": {
              "type": "string"
            }
          },
          "metadata": {},
          "execution_count": 82
        }
      ]
    },
    {
      "cell_type": "markdown",
      "source": [
        "## Final Implementation"
      ],
      "metadata": {
        "id": "clRYe3MG0DNA"
      }
    },
    {
      "cell_type": "code",
      "source": [
        "def google_search_runner(search_keyword: str):\n",
        "    \"\"\"Returns the google results for the given search word\"\"\"\n",
        "    url = \"https://google.serper.dev/search\"\n",
        "\n",
        "    payload = json.dumps({\n",
        "        \"q\": search_keyword\n",
        "    })\n",
        "\n",
        "    headers = {\n",
        "        'X-API-KEY': serper_api_key,\n",
        "        'Content-Type': 'application/json'\n",
        "    }\n",
        "\n",
        "    response = requests.request(\"POST\", url, headers=headers, data=payload)\n",
        "    print(f\"Google Search for: {search_keyword}\")\n",
        "    return response.text"
      ],
      "metadata": {
        "id": "IA0QxEhS0X1R"
      },
      "execution_count": null,
      "outputs": []
    },
    {
      "cell_type": "code",
      "source": [
        "def find_class_info(class_name: str, school_name:str):\n",
        "  \"\"\" Given the name of a class and school find details\"\"\"\n",
        "  google_search = {'function_declarations': [\n",
        "      {\n",
        "      \"name\": \"google_search\",\n",
        "      \"description\": \"Google search to return results of search keywords\",\n",
        "      \"parameters\": {\n",
        "          \"type_\": \"OBJECT\",\n",
        "          \"properties\": {\n",
        "              \"search_keyword\": {\n",
        "                  \"type_\": \"STRING\",\n",
        "                  \"description\": \"A great search keyword that most likely to return resuls for the information you are looking for\"\n",
        "              }\n",
        "          },\n",
        "          \"required\": [\n",
        "              \"search_keyword\"\n",
        "          ]\n",
        "      }\n",
        "  }\n",
        "  ]}\n",
        "\n",
        "  glm.Tool(google_search)\n",
        "\n",
        "  # Implement Retry\n",
        "  try:\n",
        "\n",
        "    model = genai.GenerativeModel('gemini-pro', tools=google_search)\n",
        "    chat = model.start_chat()\n",
        "\n",
        "    response = chat.send_message(\n",
        "        f\"Find more information about {class_name} taught at {school_name}\",\n",
        "    )\n",
        "\n",
        "\n",
        "    fc = response.candidates[0].content.parts[0].function_call\n",
        "\n",
        "    key_word = fc.args['search_keyword']\n",
        "\n",
        "\n",
        "\n",
        "  except Exception as e:\n",
        "    print(f\"Error {e}\")\n",
        "    return \"Error in generating Key Word with Gemini\"\n",
        "\n",
        "\n",
        "  try:\n",
        "    result = google_search_runner(key_word)\n",
        "\n",
        "  except Exception as e:\n",
        "    print(f\"Error {e}\")\n",
        "    return \"Error in generating search from serper\"\n",
        "\n",
        "  response = chat.send_message(\n",
        "    glm.Content(\n",
        "    parts=[glm.Part(\n",
        "        function_response = glm.FunctionResponse(\n",
        "          name='google_search',\n",
        "          response={'result': result}))]))\n",
        "\n",
        "  return response.text\n",
        "\n"
      ],
      "metadata": {
        "id": "HQdhbNLGyxGV"
      },
      "execution_count": null,
      "outputs": []
    },
    {
      "cell_type": "code",
      "source": [
        "find_class_info(\"CS230\",\"Duke University\")"
      ],
      "metadata": {
        "colab": {
          "base_uri": "https://localhost:8080/",
          "height": 70
        },
        "id": "cAv3PmcN2Zex",
        "outputId": "dd210d26-d906-4b9b-f533-642a7e3f13b2"
      },
      "execution_count": null,
      "outputs": [
        {
          "output_type": "stream",
          "name": "stdout",
          "text": [
            "Google Search for: CS230 Duke University\n"
          ]
        },
        {
          "output_type": "execute_result",
          "data": {
            "text/plain": [
              "'Here is some information about CS230 at Duke University. CS230 is an undergraduate course that introduces students to the mathematical foundations of computer science. The course covers topics such as sets, functions, relations, graphs, trees, and algorithms. CS230 is a required course for all computer science majors at Duke University. The course is typically offered in the spring semester.'"
            ],
            "application/vnd.google.colaboratory.intrinsic+json": {
              "type": "string"
            }
          },
          "metadata": {},
          "execution_count": 11
        }
      ]
    },
    {
      "cell_type": "code",
      "source": [
        "find_class_info(\"CS224W\",\"Stanford University\")"
      ],
      "metadata": {
        "colab": {
          "base_uri": "https://localhost:8080/",
          "height": 87
        },
        "id": "dZfoiWpb6DLL",
        "outputId": "9117f385-77b7-4072-cfdc-362ae20b1738"
      },
      "execution_count": null,
      "outputs": [
        {
          "output_type": "stream",
          "name": "stdout",
          "text": [
            "Google Search for: CS224W at Stanford University\n"
          ]
        },
        {
          "output_type": "execute_result",
          "data": {
            "text/plain": [
              "'CS224W: Machine Learning with Graphs is a course offered by Stanford University. It focuses on computational, algorithmic, and modeling challenges specific to the analysis of graphs. The course covers topics such as graph algorithms, graph mining, graph clustering, and graph visualization. It also provides hands-on experience with real-world datasets and open-source software tools. The course is designed for students with a strong background in computer science and mathematics.'"
            ],
            "application/vnd.google.colaboratory.intrinsic+json": {
              "type": "string"
            }
          },
          "metadata": {},
          "execution_count": 12
        }
      ]
    },
    {
      "cell_type": "code",
      "source": [],
      "metadata": {
        "id": "rvf5Nn0a6SM8"
      },
      "execution_count": null,
      "outputs": []
    },
    {
      "cell_type": "markdown",
      "source": [
        "# Article Reading"
      ],
      "metadata": {
        "id": "R_pXxzNXIMtn"
      }
    },
    {
      "cell_type": "code",
      "source": [
        "!pip install langchain-google-genai\n",
        "!pip install langchain\n",
        "!pip install langchain_community"
      ],
      "metadata": {
        "id": "Fb6qCIGqIQCG"
      },
      "execution_count": null,
      "outputs": []
    },
    {
      "cell_type": "code",
      "source": [
        "try:\n",
        "    # Used to securely store your API key\n",
        "    from google.colab import userdata\n",
        "\n",
        "    # Or use `os.getenv('API_KEY')` to fetch an environment variable.\n",
        "    GOOGLE_API_KEY=userdata.get('GOOGLE_API_KEY')\n",
        "except ImportError:\n",
        "    import os\n",
        "    GOOGLE_API_KEY = os.environ['GOOGLE_API_KEY']\n",
        "\n",
        "genai.configure(api_key=GOOGLE_API_KEY)"
      ],
      "metadata": {
        "id": "yP4jTLkcIoWs"
      },
      "execution_count": null,
      "outputs": []
    },
    {
      "cell_type": "code",
      "source": [
        "#Import Modules\n",
        "from langchain_google_genai import ChatGoogleGenerativeAI\n",
        "from langchain_google_genai import GoogleGenerativeAIEmbeddings\n",
        "from langchain_community.document_loaders import WebBaseLoader\n",
        "from langchain.chains import StuffDocumentsChain\n",
        "from langchain.chains.llm import LLMChain\n",
        "from langchain.prompts import PromptTemplate\n",
        "\n",
        "#Initialize Model\n",
        "llm = ChatGoogleGenerativeAI(model=\"gemini-pro\",google_api_key=GOOGLE_API_KEY)\n",
        "\n",
        "#Load the blog\n",
        "loader = WebBaseLoader(\"https://thenewstack.io/the-building-blocks-of-llms-vectors-tokens-and-embeddings/\")\n",
        "docs = loader.load()\n",
        "\n",
        "#Define the Summarize Chain\n",
        "template = \"\"\"Write a concise summary of the following:\n",
        "\"{text}\"\n",
        "CONCISE SUMMARY:\"\"\"\n",
        "\n",
        "prompt = PromptTemplate.from_template(template)\n",
        "\n",
        "llm_chain = LLMChain(llm=llm, prompt=prompt)\n",
        "stuff_chain = StuffDocumentsChain(llm_chain=llm_chain, document_variable_name=\"text\")\n",
        "\n",
        "#Invoke Chain\n",
        "response=stuff_chain.invoke(docs)\n",
        "print(response[\"output_text\"])"
      ],
      "metadata": {
        "colab": {
          "base_uri": "https://localhost:8080/"
        },
        "id": "NYvw1JnVIPPe",
        "outputId": "95b606e0-f46c-4cec-c7a0-9ae3abeb168b"
      },
      "execution_count": null,
      "outputs": [
        {
          "output_type": "stream",
          "name": "stdout",
          "text": [
            "This article explains the fundamental building blocks of LLMs: vectors, tokens, and embeddings. Vectors are numerical representations of text or data that are understood by LLMs. Tokens are the basic units of data processed by LLMs, which are generated by tokenizers. Embeddings are vectors that represent the meaning and context of text, allowing LLMs to understand language with nuance and perform tasks like sentiment analysis and text generation.\n"
          ]
        }
      ]
    },
    {
      "cell_type": "code",
      "source": [
        "def article_reader_runner(url:str):\n",
        "  \"Given a url, this returns the summary of the article\"\n",
        "  lm = ChatGoogleGenerativeAI(model=\"gemini-pro\",google_api_key=GOOGLE_API_KEY)\n",
        "\n",
        "  #Load the blog\n",
        "  loader = WebBaseLoader(url)\n",
        "  docs = loader.load()\n",
        "\n",
        "  #Define the Summarize Chain\n",
        "  template = \"\"\"Write a concise summary of the following:\n",
        "  \"{text}\"\n",
        "  CONCISE SUMMARY:\"\"\"\n",
        "\n",
        "  prompt = PromptTemplate.from_template(template)\n",
        "\n",
        "  llm_chain = LLMChain(llm=llm, prompt=prompt)\n",
        "  stuff_chain = StuffDocumentsChain(llm_chain=llm_chain, document_variable_name=\"text\")\n",
        "\n",
        "  #Invoke Chain\n",
        "  response=stuff_chain.invoke(docs)\n",
        "  return response[\"output_text\"]"
      ],
      "metadata": {
        "id": "NgcArSStIyD4"
      },
      "execution_count": null,
      "outputs": []
    },
    {
      "cell_type": "code",
      "source": [
        "url = \"https://thenewstack.io/how-to-cure-llm-weaknesses-with-vector-databases/\""
      ],
      "metadata": {
        "id": "sRK1dCRUJHej"
      },
      "execution_count": null,
      "outputs": []
    },
    {
      "cell_type": "code",
      "source": [
        "article_reader_runner(url)"
      ],
      "metadata": {
        "colab": {
          "base_uri": "https://localhost:8080/",
          "height": 52
        },
        "id": "nWd2Or8-JNwJ",
        "outputId": "3bac1801-173b-4488-a9da-d5a39f0e6ebf"
      },
      "execution_count": null,
      "outputs": [
        {
          "output_type": "execute_result",
          "data": {
            "text/plain": [
              "'Vector databases can resolve the limitations of off-the-shelf LLMs, including outdated data, lack of domain-specific context, and AI hallucinations. By incorporating proprietary data and vector embeddings into LLMs, vector databases enhance accuracy and relevance, leading to more effective and efficient AI applications.'"
            ],
            "application/vnd.google.colaboratory.intrinsic+json": {
              "type": "string"
            }
          },
          "metadata": {},
          "execution_count": 30
        }
      ]
    },
    {
      "cell_type": "code",
      "source": [
        "article_summarizer = {'function_declarations': [\n",
        "      {\n",
        "      \"name\": \"article_summarizer\",\n",
        "      \"description\": \"Article summarizer given a url\",\n",
        "      \"parameters\": {\n",
        "          \"type_\": \"OBJECT\",\n",
        "          \"properties\": {\n",
        "              \"url\": {\n",
        "                  \"type_\": \"STRING\",\n",
        "                  \"description\": \"URL of the webpage to be read\"\n",
        "              }\n",
        "          },\n",
        "          \"required\": [\n",
        "              \"url\"\n",
        "          ]\n",
        "      }\n",
        "  }\n",
        "  ]}"
      ],
      "metadata": {
        "id": "E5fleNVUJPWK"
      },
      "execution_count": null,
      "outputs": []
    },
    {
      "cell_type": "code",
      "source": [
        "glm.Tool(article_summarizer)"
      ],
      "metadata": {
        "colab": {
          "base_uri": "https://localhost:8080/"
        },
        "id": "7fON32wdKB-2",
        "outputId": "dcd8e8f8-9e39-4682-a053-9dfd62ecec46"
      },
      "execution_count": null,
      "outputs": [
        {
          "output_type": "execute_result",
          "data": {
            "text/plain": [
              "function_declarations {\n",
              "  name: \"article_summarizer\"\n",
              "  description: \"Article summarizer given a url\"\n",
              "  parameters {\n",
              "    type_: OBJECT\n",
              "    properties {\n",
              "      key: \"url\"\n",
              "      value {\n",
              "        type_: STRING\n",
              "        description: \"URL of the webpage to be read\"\n",
              "      }\n",
              "    }\n",
              "    required: \"url\"\n",
              "  }\n",
              "}"
            ]
          },
          "metadata": {},
          "execution_count": 32
        }
      ]
    },
    {
      "cell_type": "code",
      "source": [
        "model = genai.GenerativeModel('gemini-pro', tools=article_summarizer)\n",
        "chat = model.start_chat()\n",
        "\n",
        "response = chat.send_message(\n",
        "    f\"Find more information about what {url} is about\",\n",
        ")\n",
        "\n",
        "\n",
        "fc = response.candidates[0].content.parts[0].function_call\n",
        "\n",
        "fc"
      ],
      "metadata": {
        "colab": {
          "base_uri": "https://localhost:8080/"
        },
        "id": "ehvKIDJjKDyL",
        "outputId": "57ae099f-906a-4e80-9ec6-3388039f69c4"
      },
      "execution_count": null,
      "outputs": [
        {
          "output_type": "execute_result",
          "data": {
            "text/plain": [
              "name: \"article_summarizer\"\n",
              "args {\n",
              "  fields {\n",
              "    key: \"url\"\n",
              "    value {\n",
              "      string_value: \"https://thenewstack.io/how-to-cure-llm-weaknesses-with-vector-databases/\"\n",
              "    }\n",
              "  }\n",
              "}"
            ]
          },
          "metadata": {},
          "execution_count": 33
        }
      ]
    },
    {
      "cell_type": "code",
      "source": [
        "url_arg = fc.args['url']\n",
        "\n",
        "\n",
        "result = article_reader_runner(url_arg)\n",
        "\n",
        "\n",
        "response = chat.send_message(\n",
        "  glm.Content(\n",
        "  parts=[glm.Part(\n",
        "      function_response = glm.FunctionResponse(\n",
        "        name='article_summarizer',\n",
        "        response={'result': result}))]))\n",
        "\n",
        "response.text"
      ],
      "metadata": {
        "colab": {
          "base_uri": "https://localhost:8080/",
          "height": 70
        },
        "id": "ChfxaFVIJ5tM",
        "outputId": "f3efcb9f-b1f5-4a96-e15f-b2a95835239d"
      },
      "execution_count": null,
      "outputs": [
        {
          "output_type": "execute_result",
          "data": {
            "text/plain": [
              "'The provided URL is about how to address LLM weaknesses using vector databases. LLMs have known limitations such as outdated training data, lack of context specific to an organization, and the tendency towards AI hallucination. Vector databases use vector embeddings to encode data, which increases value and improves the accuracy of search results. When combined with LLMs, businesses can extend off-the-shelf AI solutions with domain-specific knowledge which mitigates risks and unlocks the potential of real-time AI applications.'"
            ],
            "application/vnd.google.colaboratory.intrinsic+json": {
              "type": "string"
            }
          },
          "metadata": {},
          "execution_count": 34
        }
      ]
    },
    {
      "cell_type": "code",
      "source": [],
      "metadata": {
        "id": "OcJLy10kLEZm"
      },
      "execution_count": null,
      "outputs": []
    },
    {
      "cell_type": "markdown",
      "source": [
        "#  Search and Summarize"
      ],
      "metadata": {
        "id": "mdlfzB7tLK-M"
      }
    },
    {
      "cell_type": "markdown",
      "source": [
        "## Imports and Config"
      ],
      "metadata": {
        "id": "4_9kznFESihQ"
      }
    },
    {
      "cell_type": "code",
      "source": [
        "#Import Modules\n",
        "from langchain_google_genai import ChatGoogleGenerativeAI\n",
        "from langchain_google_genai import GoogleGenerativeAIEmbeddings\n",
        "from langchain_community.document_loaders import WebBaseLoader\n",
        "from langchain.chains import StuffDocumentsChain\n",
        "from langchain.chains.llm import LLMChain\n",
        "from langchain.prompts import PromptTemplate\n",
        "\n",
        "import pathlib\n",
        "import textwrap\n",
        "import time\n",
        "import json\n",
        "import requests\n",
        "\n",
        "import google.generativeai as genai\n",
        "import google.ai.generativelanguage as glm\n",
        "from google.colab import userdata\n",
        "\n",
        "\n",
        "from IPython import display\n",
        "from IPython.display import Markdown"
      ],
      "metadata": {
        "id": "Y2Bmgr3FSiU2"
      },
      "execution_count": 27,
      "outputs": []
    },
    {
      "cell_type": "code",
      "source": [
        "GOOGLE_API_KEY = userdata.get('GOOGLE_API_KEY')\n",
        "genai.configure(api_key=GOOGLE_API_KEY)"
      ],
      "metadata": {
        "id": "uall-DpNSqSa"
      },
      "execution_count": 28,
      "outputs": []
    },
    {
      "cell_type": "code",
      "source": [
        "serper_api_key = userdata.get('SERP_API_KEY')"
      ],
      "metadata": {
        "id": "9i_g7ZJKSvgD"
      },
      "execution_count": 29,
      "outputs": []
    },
    {
      "cell_type": "markdown",
      "source": [
        "## Search"
      ],
      "metadata": {
        "id": "6B77yVbYLgoD"
      }
    },
    {
      "cell_type": "code",
      "source": [
        "def google_search_runner(search_keyword: str):\n",
        "    \"\"\"Returns the google results for the given search word\"\"\"\n",
        "    url = \"https://google.serper.dev/search\"\n",
        "\n",
        "    payload = json.dumps({\n",
        "        \"q\": search_keyword\n",
        "    })\n",
        "\n",
        "    headers = {\n",
        "        'X-API-KEY': serper_api_key,\n",
        "        'Content-Type': 'application/json'\n",
        "    }\n",
        "\n",
        "    response = requests.request(\"POST\", url, headers=headers, data=payload)\n",
        "    print(f\"Google Search for: {search_keyword}\")\n",
        "    return response.text"
      ],
      "metadata": {
        "id": "T0E1p5-uLlR0"
      },
      "execution_count": 30,
      "outputs": []
    },
    {
      "cell_type": "code",
      "source": [
        "google_search = {'function_declarations': [\n",
        "      {\n",
        "      \"name\": \"google_search\",\n",
        "      \"description\": \"Google search to return results of search keywords\",\n",
        "      \"parameters\": {\n",
        "          \"type_\": \"OBJECT\",\n",
        "          \"properties\": {\n",
        "              \"search_keyword\": {\n",
        "                  \"type_\": \"STRING\",\n",
        "                  \"description\": \"A great search keyword that most likely to return resuls for the information you are looking for\"\n",
        "              }\n",
        "          },\n",
        "          \"required\": [\n",
        "              \"search_keyword\"\n",
        "          ]\n",
        "      }\n",
        "  }\n",
        "]}\n",
        "\n",
        "glm.Tool(google_search)"
      ],
      "metadata": {
        "colab": {
          "base_uri": "https://localhost:8080/"
        },
        "id": "Jnp15JIXLNrs",
        "outputId": "1cd5774b-d0d2-4752-801b-a8e08e577649"
      },
      "execution_count": 31,
      "outputs": [
        {
          "output_type": "execute_result",
          "data": {
            "text/plain": [
              "function_declarations {\n",
              "  name: \"google_search\"\n",
              "  description: \"Google search to return results of search keywords\"\n",
              "  parameters {\n",
              "    type_: OBJECT\n",
              "    properties {\n",
              "      key: \"search_keyword\"\n",
              "      value {\n",
              "        type_: STRING\n",
              "        description: \"A great search keyword that most likely to return resuls for the information you are looking for\"\n",
              "      }\n",
              "    }\n",
              "    required: \"search_keyword\"\n",
              "  }\n",
              "}"
            ]
          },
          "metadata": {},
          "execution_count": 31
        }
      ]
    },
    {
      "cell_type": "markdown",
      "source": [
        "## Summarizer"
      ],
      "metadata": {
        "id": "yzSHH1sYLr1U"
      }
    },
    {
      "cell_type": "code",
      "source": [
        "def article_reader_runner(url:str):\n",
        "  \"Given a url, this returns the summary of the article\"\n",
        "  print(f\"Reading article: {url}\")\n",
        "  llm = ChatGoogleGenerativeAI(model=\"gemini-pro\",google_api_key=GOOGLE_API_KEY)\n",
        "\n",
        "  #Load the blog\n",
        "  loader = WebBaseLoader(url)\n",
        "  docs = loader.load()\n",
        "\n",
        "  #Define the Summarize Chain\n",
        "  template = \"\"\"Write a concise summary of the following:\n",
        "  \"{text}\"\n",
        "  CONCISE SUMMARY:\"\"\"\n",
        "\n",
        "  prompt = PromptTemplate.from_template(template)\n",
        "\n",
        "  llm_chain = LLMChain(llm=llm, prompt=prompt)\n",
        "  stuff_chain = StuffDocumentsChain(llm_chain=llm_chain, document_variable_name=\"text\")\n",
        "\n",
        "  #Invoke Chain\n",
        "  response=stuff_chain.invoke(docs)\n",
        "  return response[\"output_text\"]"
      ],
      "metadata": {
        "id": "umNCngjtLo3w"
      },
      "execution_count": 32,
      "outputs": []
    },
    {
      "cell_type": "code",
      "source": [
        "article_summarizer = {'function_declarations': [\n",
        "      {\n",
        "      \"name\": \"article_summarizer\",\n",
        "      \"description\": \"Reads article given a url: Returns summary of article\",\n",
        "      \"parameters\": {\n",
        "          \"type_\": \"OBJECT\",\n",
        "          \"properties\": {\n",
        "              \"url\": {\n",
        "                  \"type_\": \"STRING\",\n",
        "                  \"description\": \"URL of the webpage to be read\"\n",
        "              }\n",
        "          },\n",
        "          \"required\": [\n",
        "              \"url\"\n",
        "          ]\n",
        "      }\n",
        "  }\n",
        "]}"
      ],
      "metadata": {
        "id": "Ge5MnAioLy3S"
      },
      "execution_count": 33,
      "outputs": []
    },
    {
      "cell_type": "markdown",
      "source": [
        "## Together"
      ],
      "metadata": {
        "id": "mOnMbClKL1gZ"
      }
    },
    {
      "cell_type": "code",
      "source": [
        "def handle_response(response,chat):\n",
        "  if response.candidates[0].content.parts[0].function_call.name == \"google_search\":\n",
        "    fc = response.candidates[0].content.parts[0].function_call\n",
        "    key_word = fc.args[\"search_keyword\"]\n",
        "    result = google_search_runner(key_word)\n",
        "    response = chat.send_message(\n",
        "      glm.Content(\n",
        "      parts=[glm.Part(\n",
        "          function_response = glm.FunctionResponse(\n",
        "            name='google_search',\n",
        "            response={'result': result}))]))\n",
        "    return response\n",
        "  elif response.candidates[0].content.parts[0].function_call.name == \"article_summarizer\":\n",
        "    fc = response.candidates[0].content.parts[0].function_call\n",
        "    url_arg = fc.args['url']\n",
        "    result = article_reader_runner(url_arg)\n",
        "    response = chat.send_message(\n",
        "      glm.Content(\n",
        "      parts=[glm.Part(\n",
        "          function_response = glm.FunctionResponse(\n",
        "            name='article_summarizer',\n",
        "            response={'result': result}))]))\n",
        "    return response\n",
        "\n",
        "  return response\n"
      ],
      "metadata": {
        "id": "XE8bYM0yOfKm"
      },
      "execution_count": 34,
      "outputs": []
    },
    {
      "cell_type": "code",
      "source": [
        "def class_details(class_name,school_name):\n",
        "  model = genai.GenerativeModel('gemini-1.0-pro', tools=[article_summarizer,google_search])\n",
        "  chat = model.start_chat()\n",
        "  response = chat.send_message(\n",
        "    f\"Find more information about the {school_name} {class_name} by first searching for articles and then reading from the url. We require a thorough understanding of the course contents and objectives\",\n",
        "  )\n",
        "\n",
        "  fc = response.candidates[0].content.parts[0].function_call\n",
        "\n",
        "  while fc:\n",
        "    response = handle_response(response,chat)\n",
        "    fc = response.candidates[0].content.parts[0].function_call\n",
        "\n",
        "  return response.text\n"
      ],
      "metadata": {
        "id": "NFTsAOmGQLJ-"
      },
      "execution_count": 35,
      "outputs": []
    },
    {
      "cell_type": "code",
      "source": [
        "response = class_details(\"CS330\",\"Duke\")"
      ],
      "metadata": {
        "colab": {
          "base_uri": "https://localhost:8080/"
        },
        "id": "j0mraWl2L0iF",
        "outputId": "19daeffe-b460-440a-f064-a1ae8c89b3e1"
      },
      "execution_count": 41,
      "outputs": [
        {
          "output_type": "stream",
          "name": "stdout",
          "text": [
            "Google Search for: Duke CS330\n",
            "Reading article: https://courses.cs.duke.edu/spring23/compsci330/\n"
          ]
        }
      ]
    },
    {
      "cell_type": "code",
      "source": [
        "Markdown(response)"
      ],
      "metadata": {
        "colab": {
          "base_uri": "https://localhost:8080/",
          "height": 540
        },
        "id": "xVSjLyaVgD9t",
        "outputId": "77a077a6-3c45-408a-d093-c05559d7353d"
      },
      "execution_count": 47,
      "outputs": [
        {
          "output_type": "execute_result",
          "data": {
            "text/plain": [
              "<IPython.core.display.Markdown object>"
            ],
            "text/markdown": "**Duke CS330: Introduction to the Design and Analysis of Algorithms**\n\n**Course Overview:**\n\nThis course provides an introduction to the fundamental concepts and techniques of algorithm design and analysis. Students will learn how to design efficient algorithms for a variety of problems, and how to analyze the performance of algorithms. The course will cover a wide range of topics, including:\n\n* **Design techniques:** Divide-and-conquer, greedy algorithms, dynamic programming, local search, and randomization\n* **Data structures:** Balanced trees, hash tables, graphs\n* **Graph algorithms:** Shortest paths, minimum spanning trees, network flow\n* **Optimization:** Linear programming, integer programming, approximation algorithms\n* **Large-scale computing:** MapReduce, Hadoop\n* **Intractability:** NP-completeness, approximation algorithms\n\n**Course Objectives:**\n\nUpon completion of this course, students will be able to:\n\n* Design efficient algorithms for a variety of problems\n* Analyze the performance of algorithms\n* Understand the limitations of computation\n* Apply algorithmic techniques to solve real-world problems\n\n**Prerequisites:**\n\n* Data structures\n* Mathematical sophistication\n\n**Grading:**\n\n* Midterm exams (2)\n* Final exam\n* Assignments\n* Project\n* Recitation\n* Class exercises"
          },
          "metadata": {},
          "execution_count": 47
        }
      ]
    },
    {
      "cell_type": "code",
      "source": [
        "Markdown(class_details(\"CS224W\",\"Stanford University\"))"
      ],
      "metadata": {
        "id": "XwXWOCTrQ6el",
        "colab": {
          "base_uri": "https://localhost:8080/",
          "height": 412
        },
        "outputId": "850c923c-6443-405b-ec7a-332055fd975c"
      },
      "execution_count": 48,
      "outputs": [
        {
          "output_type": "stream",
          "name": "stdout",
          "text": [
            "Google Search for: Stanford University CS224W course contents and objectives\n"
          ]
        },
        {
          "output_type": "execute_result",
          "data": {
            "text/plain": [
              "<IPython.core.display.Markdown object>"
            ],
            "text/markdown": "- **Course Overview:** Stanford University's CS224W is a graduate-level course that focuses on machine learning with graphs. The course covers a wide range of topics, including:\n    - Graph theory fundamentals\n    - Machine learning algorithms for graphs\n    - Applications of machine learning to graphs\n- **Course Objectives:** The objectives of CS224W are to:\n    - Provide students with a strong foundation in graph theory\n    - Introduce students to the latest machine learning algorithms for graphs\n    - Enable students to apply machine learning to real-world problems involving graphs\n- **Course Content:** The course is divided into three modules:\n    - **Module 1:** Graph Theory Fundamentals\n    - **Module 2:** Machine Learning Algorithms for Graphs\n    - **Module 3:** Applications of Machine Learning to Graphs\n- **Course Format:** The course is taught through a combination of lectures, discussions, and hands-on projects. Students are required to complete a number of programming assignments and a final project.\n- **Prerequisites:** The course assumes that students have a strong background in linear algebra, probability theory, and computer science. Students should also be familiar with the basics of machine learning.\n- **Who Should Take This Course:** CS224W is a great choice for students who are interested in learning about machine learning with graphs. The course is also a good fit for students who are interested in pursuing a career in data science or machine learning."
          },
          "metadata": {},
          "execution_count": 48
        }
      ]
    },
    {
      "cell_type": "code",
      "source": [],
      "metadata": {
        "id": "G0SC8tGfRQg6"
      },
      "execution_count": null,
      "outputs": []
    }
  ]
}